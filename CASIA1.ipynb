{
 "cells": [
  {
   "cell_type": "code",
   "execution_count": 6,
   "id": "0de37617",
   "metadata": {},
   "outputs": [],
   "source": [
    "import os\n",
    "import numpy as np\n",
    "import faiss\n",
    "from scipy.io import loadmat\n",
    "import plotly.graph_objects as go\n",
    "import csv\n",
    "\n"
   ]
  },
  {
   "cell_type": "code",
   "execution_count": 22,
   "id": "688fd93e",
   "metadata": {},
   "outputs": [],
   "source": [
    "###HNSW_FLAT"
   ]
  },
  {
   "cell_type": "code",
   "execution_count": 48,
   "id": "e51fdebd",
   "metadata": {},
   "outputs": [],
   "source": [
    "def load_templates(data_folder):\n",
    "    \"\"\"\n",
    "    Load enrollment templates (excluding '_3') from .mat files.\n",
    "    Returns: vectors (ndarray), labels (list)\n",
    "    \"\"\"\n",
    "    files = sorted([f for f in os.listdir(data_folder) if f.endswith('.mat')])\n",
    "    vectors, labels = [], []\n",
    "\n",
    "    for file in files:\n",
    "        if '_3' in file:  # Skip probe templates\n",
    "            continue\n",
    "\n",
    "        path = os.path.join(data_folder, file)\n",
    "        data = loadmat(path)\n",
    "\n",
    "        vec = data['template'].flatten().astype('float32')\n",
    "        pid, side = file.split('_')[0], file.split('_')[1]\n",
    "        labels.append(f\"{pid}_{side}\")\n",
    "        vectors.append(vec)\n",
    "\n",
    "    return np.vstack(vectors), labels\n",
    "\n",
    "\n",
    "def create_hnsw_index(vectors, M=12, ef_construction=30, ef_search=15):\n",
    "    \"\"\"\n",
    "    Create an HNSW index with FAISS.\n",
    "    \"\"\"\n",
    "    d = vectors.shape[1]\n",
    "    index = faiss.IndexHNSWFlat(d, M)\n",
    "    index.hnsw.efConstruction = ef_construction\n",
    "    index.add(vectors)\n",
    "    index.hnsw.efSearch = ef_search\n",
    "    return index\n",
    "\n",
    "\n",
    "def evaluate_accuracy(index, labels, data_folder, k):\n",
    "    \"\"\"\n",
    "    Evaluate top-k accuracy using probe templates ('_3').\n",
    "    Returns: accuracy (float), total_queries (int)\n",
    "    \"\"\"\n",
    "    query_files = sorted([f for f in os.listdir(data_folder) if '_3' in f and f.endswith('.mat')])\n",
    "    correct, total = 0, 0\n",
    "\n",
    "    for qf in query_files:\n",
    "        qpid = qf.split('_')[0]\n",
    "        qpath = os.path.join(data_folder, qf)\n",
    "\n",
    "        qvec = loadmat(qpath)['template'].flatten().astype('float32').reshape(1, -1)\n",
    "        distances, indices = index.search(qvec, k)\n",
    "\n",
    "        predicted_pids = [labels[i].split('_')[0] for i in indices[0]]\n",
    "        if qpid in predicted_pids:\n",
    "            correct += 1\n",
    "        total += 1\n",
    "\n",
    "    return (correct / total if total > 0 else 0)\n",
    "\n",
    "\n",
    "def plot_hit_rate_plotly(data_folder, k_max=50):\n",
    "    vectors, labels = load_templates(data_folder)\n",
    "    index = create_hnsw_index(vectors)\n",
    "\n",
    "    k_values = list(range(1, k_max + 1))\n",
    "    hit_rates = []\n",
    "\n",
    "    for k in k_values:\n",
    "        acc = evaluate_accuracy(index, labels, data_folder, k)\n",
    "        hit_rates.append(acc * 100)  # in %\n",
    "\n",
    "    # ---- Save results to CSV ----\n",
    "    with open(\"/home/nishkal/sg/iris_indexing/results/CASIA1_hnsw_2_results.csv\", mode='w', newline='') as file:\n",
    "        writer = csv.writer(file)\n",
    "        writer.writerow([\"k\", \"hit_rate_percent\"])\n",
    "        for k_val, hr in zip(k_values, hit_rates):\n",
    "            writer.writerow([k_val, hr])\n",
    "    # print(f\"Results saved to {csv_path}\")\n",
    "\n",
    "    # ---- Print Y-range ----\n",
    "    # print(f\"Hit Rate Range: {min(hit_rates):.2f}% to {max(hit_rates):.2f}%\")\n",
    "\n",
    "    # ---- Plot interactive graph ----\n",
    "    fig = go.Figure()\n",
    "    fig.add_trace(go.Scatter(\n",
    "        x=k_values, y=hit_rates,\n",
    "        mode='lines+markers',\n",
    "        name='Hit Rate (%)',\n",
    "        line=dict(color='blue', width=2)\n",
    "    ))\n",
    "    fig.update_layout(\n",
    "        title=\"Hit Rate vs k\",\n",
    "        xaxis_title=\"k (Top-k)\",\n",
    "        yaxis_title=\"Hit Rate (%)\",\n",
    "        template=\"plotly_white\"\n",
    "    )\n",
    "    fig.show()\n",
    "    return k_values, hit_rates"
   ]
  },
  {
   "cell_type": "code",
   "execution_count": 49,
   "id": "b2d203ac",
   "metadata": {},
   "outputs": [
    {
     "data": {
      "application/vnd.plotly.v1+json": {
       "config": {
        "plotlyServerURL": "https://plot.ly"
       },
       "data": [
        {
         "line": {
          "color": "blue",
          "width": 2
         },
         "mode": "lines+markers",
         "name": "Hit Rate (%)",
         "type": "scatter",
         "x": [
          1,
          2,
          3,
          4,
          5,
          6,
          7,
          8,
          9,
          10,
          11,
          12,
          13,
          14,
          15,
          16,
          17,
          18,
          19,
          20,
          21,
          22,
          23,
          24,
          25,
          26,
          27,
          28,
          29,
          30,
          31,
          32,
          33,
          34,
          35,
          36,
          37,
          38,
          39,
          40,
          41,
          42,
          43,
          44,
          45,
          46,
          47,
          48,
          49,
          50,
          51,
          52,
          53,
          54,
          55,
          56,
          57,
          58,
          59,
          60,
          61,
          62,
          63,
          64,
          65,
          66,
          67,
          68,
          69,
          70,
          71,
          72,
          73,
          74,
          75,
          76,
          77,
          78,
          79,
          80,
          81,
          82,
          83,
          84,
          85,
          86,
          87,
          88,
          89,
          90,
          91,
          92,
          93,
          94,
          95,
          96,
          97,
          98,
          99,
          100,
          101,
          102,
          103,
          104,
          105,
          106,
          107,
          108
         ],
         "y": [
          90.74074074074075,
          92.5925925925926,
          92.5925925925926,
          93.51851851851852,
          93.51851851851852,
          94.44444444444444,
          94.44444444444444,
          94.44444444444444,
          94.44444444444444,
          94.44444444444444,
          95.37037037037037,
          95.37037037037037,
          95.37037037037037,
          96.29629629629629,
          96.29629629629629,
          96.29629629629629,
          96.29629629629629,
          96.29629629629629,
          96.29629629629629,
          97.22222222222221,
          97.22222222222221,
          97.22222222222221,
          97.22222222222221,
          97.22222222222221,
          97.22222222222221,
          97.22222222222221,
          97.22222222222221,
          97.22222222222221,
          97.22222222222221,
          97.22222222222221,
          97.22222222222221,
          97.22222222222221,
          97.22222222222221,
          97.22222222222221,
          97.22222222222221,
          97.22222222222221,
          97.22222222222221,
          97.22222222222221,
          97.22222222222221,
          97.22222222222221,
          98.14814814814815,
          98.14814814814815,
          98.14814814814815,
          98.14814814814815,
          98.14814814814815,
          98.14814814814815,
          98.14814814814815,
          98.14814814814815,
          98.14814814814815,
          98.14814814814815,
          98.14814814814815,
          98.14814814814815,
          98.14814814814815,
          98.14814814814815,
          98.14814814814815,
          98.14814814814815,
          98.14814814814815,
          98.14814814814815,
          98.14814814814815,
          98.14814814814815,
          98.14814814814815,
          98.14814814814815,
          98.14814814814815,
          98.14814814814815,
          98.14814814814815,
          98.14814814814815,
          98.14814814814815,
          98.14814814814815,
          98.14814814814815,
          98.14814814814815,
          98.14814814814815,
          98.14814814814815,
          98.14814814814815,
          98.14814814814815,
          98.14814814814815,
          98.14814814814815,
          98.14814814814815,
          98.14814814814815,
          98.14814814814815,
          98.14814814814815,
          98.14814814814815,
          98.14814814814815,
          98.14814814814815,
          98.14814814814815,
          98.14814814814815,
          98.14814814814815,
          99.07407407407408,
          99.07407407407408,
          99.07407407407408,
          99.07407407407408,
          99.07407407407408,
          99.07407407407408,
          99.07407407407408,
          99.07407407407408,
          99.07407407407408,
          99.07407407407408,
          99.07407407407408,
          99.07407407407408,
          99.07407407407408,
          99.07407407407408,
          99.07407407407408,
          99.07407407407408,
          99.07407407407408,
          99.07407407407408,
          99.07407407407408,
          99.07407407407408,
          99.07407407407408,
          99.07407407407408
         ]
        }
       ],
       "layout": {
        "template": {
         "data": {
          "bar": [
           {
            "error_x": {
             "color": "#2a3f5f"
            },
            "error_y": {
             "color": "#2a3f5f"
            },
            "marker": {
             "line": {
              "color": "white",
              "width": 0.5
             },
             "pattern": {
              "fillmode": "overlay",
              "size": 10,
              "solidity": 0.2
             }
            },
            "type": "bar"
           }
          ],
          "barpolar": [
           {
            "marker": {
             "line": {
              "color": "white",
              "width": 0.5
             },
             "pattern": {
              "fillmode": "overlay",
              "size": 10,
              "solidity": 0.2
             }
            },
            "type": "barpolar"
           }
          ],
          "carpet": [
           {
            "aaxis": {
             "endlinecolor": "#2a3f5f",
             "gridcolor": "#C8D4E3",
             "linecolor": "#C8D4E3",
             "minorgridcolor": "#C8D4E3",
             "startlinecolor": "#2a3f5f"
            },
            "baxis": {
             "endlinecolor": "#2a3f5f",
             "gridcolor": "#C8D4E3",
             "linecolor": "#C8D4E3",
             "minorgridcolor": "#C8D4E3",
             "startlinecolor": "#2a3f5f"
            },
            "type": "carpet"
           }
          ],
          "choropleth": [
           {
            "colorbar": {
             "outlinewidth": 0,
             "ticks": ""
            },
            "type": "choropleth"
           }
          ],
          "contour": [
           {
            "colorbar": {
             "outlinewidth": 0,
             "ticks": ""
            },
            "colorscale": [
             [
              0,
              "#0d0887"
             ],
             [
              0.1111111111111111,
              "#46039f"
             ],
             [
              0.2222222222222222,
              "#7201a8"
             ],
             [
              0.3333333333333333,
              "#9c179e"
             ],
             [
              0.4444444444444444,
              "#bd3786"
             ],
             [
              0.5555555555555556,
              "#d8576b"
             ],
             [
              0.6666666666666666,
              "#ed7953"
             ],
             [
              0.7777777777777778,
              "#fb9f3a"
             ],
             [
              0.8888888888888888,
              "#fdca26"
             ],
             [
              1,
              "#f0f921"
             ]
            ],
            "type": "contour"
           }
          ],
          "contourcarpet": [
           {
            "colorbar": {
             "outlinewidth": 0,
             "ticks": ""
            },
            "type": "contourcarpet"
           }
          ],
          "heatmap": [
           {
            "colorbar": {
             "outlinewidth": 0,
             "ticks": ""
            },
            "colorscale": [
             [
              0,
              "#0d0887"
             ],
             [
              0.1111111111111111,
              "#46039f"
             ],
             [
              0.2222222222222222,
              "#7201a8"
             ],
             [
              0.3333333333333333,
              "#9c179e"
             ],
             [
              0.4444444444444444,
              "#bd3786"
             ],
             [
              0.5555555555555556,
              "#d8576b"
             ],
             [
              0.6666666666666666,
              "#ed7953"
             ],
             [
              0.7777777777777778,
              "#fb9f3a"
             ],
             [
              0.8888888888888888,
              "#fdca26"
             ],
             [
              1,
              "#f0f921"
             ]
            ],
            "type": "heatmap"
           }
          ],
          "histogram": [
           {
            "marker": {
             "pattern": {
              "fillmode": "overlay",
              "size": 10,
              "solidity": 0.2
             }
            },
            "type": "histogram"
           }
          ],
          "histogram2d": [
           {
            "colorbar": {
             "outlinewidth": 0,
             "ticks": ""
            },
            "colorscale": [
             [
              0,
              "#0d0887"
             ],
             [
              0.1111111111111111,
              "#46039f"
             ],
             [
              0.2222222222222222,
              "#7201a8"
             ],
             [
              0.3333333333333333,
              "#9c179e"
             ],
             [
              0.4444444444444444,
              "#bd3786"
             ],
             [
              0.5555555555555556,
              "#d8576b"
             ],
             [
              0.6666666666666666,
              "#ed7953"
             ],
             [
              0.7777777777777778,
              "#fb9f3a"
             ],
             [
              0.8888888888888888,
              "#fdca26"
             ],
             [
              1,
              "#f0f921"
             ]
            ],
            "type": "histogram2d"
           }
          ],
          "histogram2dcontour": [
           {
            "colorbar": {
             "outlinewidth": 0,
             "ticks": ""
            },
            "colorscale": [
             [
              0,
              "#0d0887"
             ],
             [
              0.1111111111111111,
              "#46039f"
             ],
             [
              0.2222222222222222,
              "#7201a8"
             ],
             [
              0.3333333333333333,
              "#9c179e"
             ],
             [
              0.4444444444444444,
              "#bd3786"
             ],
             [
              0.5555555555555556,
              "#d8576b"
             ],
             [
              0.6666666666666666,
              "#ed7953"
             ],
             [
              0.7777777777777778,
              "#fb9f3a"
             ],
             [
              0.8888888888888888,
              "#fdca26"
             ],
             [
              1,
              "#f0f921"
             ]
            ],
            "type": "histogram2dcontour"
           }
          ],
          "mesh3d": [
           {
            "colorbar": {
             "outlinewidth": 0,
             "ticks": ""
            },
            "type": "mesh3d"
           }
          ],
          "parcoords": [
           {
            "line": {
             "colorbar": {
              "outlinewidth": 0,
              "ticks": ""
             }
            },
            "type": "parcoords"
           }
          ],
          "pie": [
           {
            "automargin": true,
            "type": "pie"
           }
          ],
          "scatter": [
           {
            "fillpattern": {
             "fillmode": "overlay",
             "size": 10,
             "solidity": 0.2
            },
            "type": "scatter"
           }
          ],
          "scatter3d": [
           {
            "line": {
             "colorbar": {
              "outlinewidth": 0,
              "ticks": ""
             }
            },
            "marker": {
             "colorbar": {
              "outlinewidth": 0,
              "ticks": ""
             }
            },
            "type": "scatter3d"
           }
          ],
          "scattercarpet": [
           {
            "marker": {
             "colorbar": {
              "outlinewidth": 0,
              "ticks": ""
             }
            },
            "type": "scattercarpet"
           }
          ],
          "scattergeo": [
           {
            "marker": {
             "colorbar": {
              "outlinewidth": 0,
              "ticks": ""
             }
            },
            "type": "scattergeo"
           }
          ],
          "scattergl": [
           {
            "marker": {
             "colorbar": {
              "outlinewidth": 0,
              "ticks": ""
             }
            },
            "type": "scattergl"
           }
          ],
          "scattermap": [
           {
            "marker": {
             "colorbar": {
              "outlinewidth": 0,
              "ticks": ""
             }
            },
            "type": "scattermap"
           }
          ],
          "scattermapbox": [
           {
            "marker": {
             "colorbar": {
              "outlinewidth": 0,
              "ticks": ""
             }
            },
            "type": "scattermapbox"
           }
          ],
          "scatterpolar": [
           {
            "marker": {
             "colorbar": {
              "outlinewidth": 0,
              "ticks": ""
             }
            },
            "type": "scatterpolar"
           }
          ],
          "scatterpolargl": [
           {
            "marker": {
             "colorbar": {
              "outlinewidth": 0,
              "ticks": ""
             }
            },
            "type": "scatterpolargl"
           }
          ],
          "scatterternary": [
           {
            "marker": {
             "colorbar": {
              "outlinewidth": 0,
              "ticks": ""
             }
            },
            "type": "scatterternary"
           }
          ],
          "surface": [
           {
            "colorbar": {
             "outlinewidth": 0,
             "ticks": ""
            },
            "colorscale": [
             [
              0,
              "#0d0887"
             ],
             [
              0.1111111111111111,
              "#46039f"
             ],
             [
              0.2222222222222222,
              "#7201a8"
             ],
             [
              0.3333333333333333,
              "#9c179e"
             ],
             [
              0.4444444444444444,
              "#bd3786"
             ],
             [
              0.5555555555555556,
              "#d8576b"
             ],
             [
              0.6666666666666666,
              "#ed7953"
             ],
             [
              0.7777777777777778,
              "#fb9f3a"
             ],
             [
              0.8888888888888888,
              "#fdca26"
             ],
             [
              1,
              "#f0f921"
             ]
            ],
            "type": "surface"
           }
          ],
          "table": [
           {
            "cells": {
             "fill": {
              "color": "#EBF0F8"
             },
             "line": {
              "color": "white"
             }
            },
            "header": {
             "fill": {
              "color": "#C8D4E3"
             },
             "line": {
              "color": "white"
             }
            },
            "type": "table"
           }
          ]
         },
         "layout": {
          "annotationdefaults": {
           "arrowcolor": "#2a3f5f",
           "arrowhead": 0,
           "arrowwidth": 1
          },
          "autotypenumbers": "strict",
          "coloraxis": {
           "colorbar": {
            "outlinewidth": 0,
            "ticks": ""
           }
          },
          "colorscale": {
           "diverging": [
            [
             0,
             "#8e0152"
            ],
            [
             0.1,
             "#c51b7d"
            ],
            [
             0.2,
             "#de77ae"
            ],
            [
             0.3,
             "#f1b6da"
            ],
            [
             0.4,
             "#fde0ef"
            ],
            [
             0.5,
             "#f7f7f7"
            ],
            [
             0.6,
             "#e6f5d0"
            ],
            [
             0.7,
             "#b8e186"
            ],
            [
             0.8,
             "#7fbc41"
            ],
            [
             0.9,
             "#4d9221"
            ],
            [
             1,
             "#276419"
            ]
           ],
           "sequential": [
            [
             0,
             "#0d0887"
            ],
            [
             0.1111111111111111,
             "#46039f"
            ],
            [
             0.2222222222222222,
             "#7201a8"
            ],
            [
             0.3333333333333333,
             "#9c179e"
            ],
            [
             0.4444444444444444,
             "#bd3786"
            ],
            [
             0.5555555555555556,
             "#d8576b"
            ],
            [
             0.6666666666666666,
             "#ed7953"
            ],
            [
             0.7777777777777778,
             "#fb9f3a"
            ],
            [
             0.8888888888888888,
             "#fdca26"
            ],
            [
             1,
             "#f0f921"
            ]
           ],
           "sequentialminus": [
            [
             0,
             "#0d0887"
            ],
            [
             0.1111111111111111,
             "#46039f"
            ],
            [
             0.2222222222222222,
             "#7201a8"
            ],
            [
             0.3333333333333333,
             "#9c179e"
            ],
            [
             0.4444444444444444,
             "#bd3786"
            ],
            [
             0.5555555555555556,
             "#d8576b"
            ],
            [
             0.6666666666666666,
             "#ed7953"
            ],
            [
             0.7777777777777778,
             "#fb9f3a"
            ],
            [
             0.8888888888888888,
             "#fdca26"
            ],
            [
             1,
             "#f0f921"
            ]
           ]
          },
          "colorway": [
           "#636efa",
           "#EF553B",
           "#00cc96",
           "#ab63fa",
           "#FFA15A",
           "#19d3f3",
           "#FF6692",
           "#B6E880",
           "#FF97FF",
           "#FECB52"
          ],
          "font": {
           "color": "#2a3f5f"
          },
          "geo": {
           "bgcolor": "white",
           "lakecolor": "white",
           "landcolor": "white",
           "showlakes": true,
           "showland": true,
           "subunitcolor": "#C8D4E3"
          },
          "hoverlabel": {
           "align": "left"
          },
          "hovermode": "closest",
          "mapbox": {
           "style": "light"
          },
          "paper_bgcolor": "white",
          "plot_bgcolor": "white",
          "polar": {
           "angularaxis": {
            "gridcolor": "#EBF0F8",
            "linecolor": "#EBF0F8",
            "ticks": ""
           },
           "bgcolor": "white",
           "radialaxis": {
            "gridcolor": "#EBF0F8",
            "linecolor": "#EBF0F8",
            "ticks": ""
           }
          },
          "scene": {
           "xaxis": {
            "backgroundcolor": "white",
            "gridcolor": "#DFE8F3",
            "gridwidth": 2,
            "linecolor": "#EBF0F8",
            "showbackground": true,
            "ticks": "",
            "zerolinecolor": "#EBF0F8"
           },
           "yaxis": {
            "backgroundcolor": "white",
            "gridcolor": "#DFE8F3",
            "gridwidth": 2,
            "linecolor": "#EBF0F8",
            "showbackground": true,
            "ticks": "",
            "zerolinecolor": "#EBF0F8"
           },
           "zaxis": {
            "backgroundcolor": "white",
            "gridcolor": "#DFE8F3",
            "gridwidth": 2,
            "linecolor": "#EBF0F8",
            "showbackground": true,
            "ticks": "",
            "zerolinecolor": "#EBF0F8"
           }
          },
          "shapedefaults": {
           "line": {
            "color": "#2a3f5f"
           }
          },
          "ternary": {
           "aaxis": {
            "gridcolor": "#DFE8F3",
            "linecolor": "#A2B1C6",
            "ticks": ""
           },
           "baxis": {
            "gridcolor": "#DFE8F3",
            "linecolor": "#A2B1C6",
            "ticks": ""
           },
           "bgcolor": "white",
           "caxis": {
            "gridcolor": "#DFE8F3",
            "linecolor": "#A2B1C6",
            "ticks": ""
           }
          },
          "title": {
           "x": 0.05
          },
          "xaxis": {
           "automargin": true,
           "gridcolor": "#EBF0F8",
           "linecolor": "#EBF0F8",
           "ticks": "",
           "title": {
            "standoff": 15
           },
           "zerolinecolor": "#EBF0F8",
           "zerolinewidth": 2
          },
          "yaxis": {
           "automargin": true,
           "gridcolor": "#EBF0F8",
           "linecolor": "#EBF0F8",
           "ticks": "",
           "title": {
            "standoff": 15
           },
           "zerolinecolor": "#EBF0F8",
           "zerolinewidth": 2
          }
         }
        },
        "title": {
         "text": "Hit Rate vs k"
        },
        "xaxis": {
         "title": {
          "text": "k (Top-k)"
         }
        },
        "yaxis": {
         "title": {
          "text": "Hit Rate (%)"
         }
        }
       }
      }
     },
     "metadata": {},
     "output_type": "display_data"
    },
    {
     "data": {
      "text/plain": [
       "([1,\n",
       "  2,\n",
       "  3,\n",
       "  4,\n",
       "  5,\n",
       "  6,\n",
       "  7,\n",
       "  8,\n",
       "  9,\n",
       "  10,\n",
       "  11,\n",
       "  12,\n",
       "  13,\n",
       "  14,\n",
       "  15,\n",
       "  16,\n",
       "  17,\n",
       "  18,\n",
       "  19,\n",
       "  20,\n",
       "  21,\n",
       "  22,\n",
       "  23,\n",
       "  24,\n",
       "  25,\n",
       "  26,\n",
       "  27,\n",
       "  28,\n",
       "  29,\n",
       "  30,\n",
       "  31,\n",
       "  32,\n",
       "  33,\n",
       "  34,\n",
       "  35,\n",
       "  36,\n",
       "  37,\n",
       "  38,\n",
       "  39,\n",
       "  40,\n",
       "  41,\n",
       "  42,\n",
       "  43,\n",
       "  44,\n",
       "  45,\n",
       "  46,\n",
       "  47,\n",
       "  48,\n",
       "  49,\n",
       "  50,\n",
       "  51,\n",
       "  52,\n",
       "  53,\n",
       "  54,\n",
       "  55,\n",
       "  56,\n",
       "  57,\n",
       "  58,\n",
       "  59,\n",
       "  60,\n",
       "  61,\n",
       "  62,\n",
       "  63,\n",
       "  64,\n",
       "  65,\n",
       "  66,\n",
       "  67,\n",
       "  68,\n",
       "  69,\n",
       "  70,\n",
       "  71,\n",
       "  72,\n",
       "  73,\n",
       "  74,\n",
       "  75,\n",
       "  76,\n",
       "  77,\n",
       "  78,\n",
       "  79,\n",
       "  80,\n",
       "  81,\n",
       "  82,\n",
       "  83,\n",
       "  84,\n",
       "  85,\n",
       "  86,\n",
       "  87,\n",
       "  88,\n",
       "  89,\n",
       "  90,\n",
       "  91,\n",
       "  92,\n",
       "  93,\n",
       "  94,\n",
       "  95,\n",
       "  96,\n",
       "  97,\n",
       "  98,\n",
       "  99,\n",
       "  100,\n",
       "  101,\n",
       "  102,\n",
       "  103,\n",
       "  104,\n",
       "  105,\n",
       "  106,\n",
       "  107,\n",
       "  108],\n",
       " [90.74074074074075,\n",
       "  92.5925925925926,\n",
       "  92.5925925925926,\n",
       "  93.51851851851852,\n",
       "  93.51851851851852,\n",
       "  94.44444444444444,\n",
       "  94.44444444444444,\n",
       "  94.44444444444444,\n",
       "  94.44444444444444,\n",
       "  94.44444444444444,\n",
       "  95.37037037037037,\n",
       "  95.37037037037037,\n",
       "  95.37037037037037,\n",
       "  96.29629629629629,\n",
       "  96.29629629629629,\n",
       "  96.29629629629629,\n",
       "  96.29629629629629,\n",
       "  96.29629629629629,\n",
       "  96.29629629629629,\n",
       "  97.22222222222221,\n",
       "  97.22222222222221,\n",
       "  97.22222222222221,\n",
       "  97.22222222222221,\n",
       "  97.22222222222221,\n",
       "  97.22222222222221,\n",
       "  97.22222222222221,\n",
       "  97.22222222222221,\n",
       "  97.22222222222221,\n",
       "  97.22222222222221,\n",
       "  97.22222222222221,\n",
       "  97.22222222222221,\n",
       "  97.22222222222221,\n",
       "  97.22222222222221,\n",
       "  97.22222222222221,\n",
       "  97.22222222222221,\n",
       "  97.22222222222221,\n",
       "  97.22222222222221,\n",
       "  97.22222222222221,\n",
       "  97.22222222222221,\n",
       "  97.22222222222221,\n",
       "  98.14814814814815,\n",
       "  98.14814814814815,\n",
       "  98.14814814814815,\n",
       "  98.14814814814815,\n",
       "  98.14814814814815,\n",
       "  98.14814814814815,\n",
       "  98.14814814814815,\n",
       "  98.14814814814815,\n",
       "  98.14814814814815,\n",
       "  98.14814814814815,\n",
       "  98.14814814814815,\n",
       "  98.14814814814815,\n",
       "  98.14814814814815,\n",
       "  98.14814814814815,\n",
       "  98.14814814814815,\n",
       "  98.14814814814815,\n",
       "  98.14814814814815,\n",
       "  98.14814814814815,\n",
       "  98.14814814814815,\n",
       "  98.14814814814815,\n",
       "  98.14814814814815,\n",
       "  98.14814814814815,\n",
       "  98.14814814814815,\n",
       "  98.14814814814815,\n",
       "  98.14814814814815,\n",
       "  98.14814814814815,\n",
       "  98.14814814814815,\n",
       "  98.14814814814815,\n",
       "  98.14814814814815,\n",
       "  98.14814814814815,\n",
       "  98.14814814814815,\n",
       "  98.14814814814815,\n",
       "  98.14814814814815,\n",
       "  98.14814814814815,\n",
       "  98.14814814814815,\n",
       "  98.14814814814815,\n",
       "  98.14814814814815,\n",
       "  98.14814814814815,\n",
       "  98.14814814814815,\n",
       "  98.14814814814815,\n",
       "  98.14814814814815,\n",
       "  98.14814814814815,\n",
       "  98.14814814814815,\n",
       "  98.14814814814815,\n",
       "  98.14814814814815,\n",
       "  98.14814814814815,\n",
       "  99.07407407407408,\n",
       "  99.07407407407408,\n",
       "  99.07407407407408,\n",
       "  99.07407407407408,\n",
       "  99.07407407407408,\n",
       "  99.07407407407408,\n",
       "  99.07407407407408,\n",
       "  99.07407407407408,\n",
       "  99.07407407407408,\n",
       "  99.07407407407408,\n",
       "  99.07407407407408,\n",
       "  99.07407407407408,\n",
       "  99.07407407407408,\n",
       "  99.07407407407408,\n",
       "  99.07407407407408,\n",
       "  99.07407407407408,\n",
       "  99.07407407407408,\n",
       "  99.07407407407408,\n",
       "  99.07407407407408,\n",
       "  99.07407407407408,\n",
       "  99.07407407407408,\n",
       "  99.07407407407408])"
      ]
     },
     "execution_count": 49,
     "metadata": {},
     "output_type": "execute_result"
    }
   ],
   "source": [
    "data_folder = \"templates/CASIA1/features\"\n",
    "plot_hit_rate_plotly(data_folder, k_max=108)\n"
   ]
  },
  {
   "cell_type": "code",
   "execution_count": 15,
   "id": "0015817e",
   "metadata": {},
   "outputs": [],
   "source": [
    "def get_non_matching_queries(data_folder, k_max=50):\n",
    "    \"\"\"\n",
    "    Returns a list of person IDs whose queries never match\n",
    "    in any top-k (from 1 to k_max).\n",
    "    \"\"\"\n",
    "    # Load enrollment templates\n",
    "    vectors, labels = load_templates(data_folder)\n",
    "    index = create_hnsw_index(vectors)\n",
    "\n",
    "    # Get all probe files ('_3')\n",
    "    query_files = sorted([f for f in os.listdir(data_folder) if '_3' in f and f.endswith('.mat')])\n",
    "    never_matched_ids = []\n",
    "\n",
    "    for qf in query_files:\n",
    "        qpid = qf.split('_')[0]  # person ID\n",
    "        qpath = os.path.join(data_folder, qf)\n",
    "        qvec = loadmat(qpath)['template'].flatten().astype('float32').reshape(1, -1)\n",
    "\n",
    "        matched = False\n",
    "        for k in range(1, k_max + 1):\n",
    "            distances, indices = index.search(qvec, k)\n",
    "            predicted_pids = [labels[i].split('_')[0] for i in indices[0]]\n",
    "            if qpid in predicted_pids:\n",
    "                matched = True\n",
    "                break  # stop checking higher k values\n",
    "\n",
    "        if not matched:\n",
    "            never_matched_ids.append(qpid)\n",
    "\n",
    "    return never_matched_ids\n"
   ]
  },
  {
   "cell_type": "code",
   "execution_count": 20,
   "id": "8d291d11",
   "metadata": {},
   "outputs": [
    {
     "name": "stdout",
     "output_type": "stream",
     "text": [
      "Number of queries that never matched: 4\n",
      "Person IDs: ['028', '038', '042', '063']\n"
     ]
    }
   ],
   "source": [
    "data_folder = \"templates/CASIA1/features\"\n",
    "k_max = 10\n",
    "\n",
    "non_matching_ids = get_non_matching_queries(data_folder, k_max=k_max)\n",
    "print(f\"Number of queries that never matched: {len(non_matching_ids)}\")\n",
    "print(\"Person IDs:\", non_matching_ids)"
   ]
  },
  {
   "cell_type": "code",
   "execution_count": null,
   "id": "00ad5e4f",
   "metadata": {},
   "outputs": [],
   "source": [
    "### IVF"
   ]
  },
  {
   "cell_type": "code",
   "execution_count": 33,
   "id": "f33e0720",
   "metadata": {},
   "outputs": [],
   "source": [
    "def load_templates(data_folder):\n",
    "    \"\"\"\n",
    "    Load enrollment templates (excluding '_3') from .mat files.\n",
    "    Returns: vectors (ndarray), labels (list)\n",
    "    \"\"\"\n",
    "    files = sorted([f for f in os.listdir(data_folder) if f.endswith('.mat')])\n",
    "    vectors, labels = [], []\n",
    "\n",
    "    for file in files:\n",
    "        if '_3' in file:  # Skip probe templates\n",
    "            continue\n",
    "\n",
    "        path = os.path.join(data_folder, file)\n",
    "        data = loadmat(path)\n",
    "\n",
    "        vec = data['template'].flatten().astype('float32')\n",
    "        pid, side = file.split('_')[0], file.split('_')[1]\n",
    "        labels.append(f\"{pid}_{side}\")\n",
    "        vectors.append(vec)\n",
    "\n",
    "    return np.vstack(vectors), labels\n",
    "\n",
    "\n",
    "def create_ivf_index(vectors, nlist=5):\n",
    "    \"\"\"\n",
    "    Create a standard IVF index with L2 metric.\n",
    "    nlist: number of clusters (set low for small datasets, e.g., 10)\n",
    "    \"\"\"\n",
    "    d = vectors.shape[1]\n",
    "    quantizer = faiss.IndexFlatL2(d)  # quantizer for clustering\n",
    "    index = faiss.IndexIVFFlat(quantizer, d, nlist, faiss.METRIC_L2)\n",
    "    index.train(vectors)  # IVF requires training\n",
    "    index.add(vectors)\n",
    "    return index\n",
    "\n",
    "\n",
    "def evaluate_accuracy(index, labels, data_folder, k):\n",
    "    \"\"\"\n",
    "    Evaluate top-k accuracy using probe templates ('_3').\n",
    "    Returns: accuracy (float), total_queries (int)\n",
    "    \"\"\"\n",
    "    query_files = sorted([f for f in os.listdir(data_folder) if '_3' in f and f.endswith('.mat')])\n",
    "    correct, total = 0, 0\n",
    "\n",
    "    for qf in query_files:\n",
    "        qpid = qf.split('_')[0]\n",
    "        qpath = os.path.join(data_folder, qf)\n",
    "\n",
    "        qvec = loadmat(qpath)['template'].flatten().astype('float32').reshape(1, -1)\n",
    "        distances, indices = index.search(qvec, k)\n",
    "\n",
    "        predicted_pids = [labels[i].split('_')[0] for i in indices[0]]\n",
    "        if qpid in predicted_pids:\n",
    "            correct += 1\n",
    "        total += 1\n",
    "\n",
    "    return (correct / total if total > 0 else 0)\n",
    "\n",
    "\n",
    "def plot_hit_rate_plotly(data_folder, k_max=50):\n",
    "    vectors, labels = load_templates(data_folder)\n",
    "    index = create_ivf_index(vectors)\n",
    "\n",
    "    k_values = list(range(1, k_max + 1))\n",
    "    hit_rates = []\n",
    "\n",
    "    for k in k_values:\n",
    "        acc = evaluate_accuracy(index, labels, data_folder, k)\n",
    "        hit_rates.append(acc * 100)  # in %\n",
    "\n",
    "    # ---- Save results to CSV ----\n",
    "    with open(\"/home/nishkal/sg/iris_indexing/results/CASIA1_IVF_results.csv\", mode='w', newline='') as file:\n",
    "        writer = csv.writer(file)\n",
    "        writer.writerow([\"k\", \"hit_rate_percent\"])\n",
    "        for k_val, hr in zip(k_values, hit_rates):\n",
    "            writer.writerow([k_val, hr])\n",
    "    # print(f\"Results saved to {csv_path}\")\n",
    "\n",
    "    # ---- Print Y-range ----\n",
    "    # print(f\"Hit Rate Range: {min(hit_rates):.2f}% to {max(hit_rates):.2f}%\")\n",
    "\n",
    "    # ---- Plot interactive graph ----\n",
    "    fig = go.Figure()\n",
    "    fig.add_trace(go.Scatter(\n",
    "        x=k_values, y=hit_rates,\n",
    "        mode='lines+markers',\n",
    "        name='Hit Rate (%)',\n",
    "        line=dict(color='blue', width=2)\n",
    "    ))\n",
    "    fig.update_layout(\n",
    "        title=\"Hit Rate vs k\",\n",
    "        xaxis_title=\"k (Top-k)\",\n",
    "        yaxis_title=\"Hit Rate (%)\",\n",
    "        template=\"plotly_white\"\n",
    "    )\n",
    "    fig.show()\n",
    "    return k_values, hit_rates"
   ]
  },
  {
   "cell_type": "code",
   "execution_count": 38,
   "id": "085b65fc",
   "metadata": {},
   "outputs": [
    {
     "data": {
      "application/vnd.plotly.v1+json": {
       "config": {
        "plotlyServerURL": "https://plot.ly"
       },
       "data": [
        {
         "line": {
          "color": "blue",
          "width": 2
         },
         "mode": "lines+markers",
         "name": "Hit Rate (%)",
         "type": "scatter",
         "x": [
          1,
          2,
          3,
          4,
          5,
          6,
          7,
          8,
          9,
          10,
          11,
          12,
          13,
          14,
          15,
          16,
          17,
          18,
          19,
          20,
          21,
          22,
          23,
          24,
          25,
          26,
          27,
          28,
          29,
          30,
          31,
          32,
          33,
          34,
          35,
          36,
          37,
          38,
          39,
          40,
          41,
          42,
          43,
          44,
          45,
          46,
          47,
          48,
          49,
          50,
          51,
          52,
          53,
          54,
          55,
          56,
          57,
          58,
          59,
          60,
          61,
          62,
          63,
          64,
          65,
          66,
          67,
          68,
          69,
          70,
          71,
          72,
          73,
          74,
          75,
          76,
          77,
          78,
          79,
          80,
          81,
          82,
          83,
          84,
          85,
          86,
          87,
          88,
          89,
          90,
          91,
          92,
          93,
          94,
          95,
          96,
          97,
          98,
          99,
          100,
          101,
          102,
          103,
          104,
          105,
          106,
          107,
          108
         ],
         "y": [
          25,
          35.18518518518518,
          41.66666666666667,
          48.148148148148145,
          48.148148148148145,
          52.77777777777778,
          55.55555555555556,
          61.111111111111114,
          62.96296296296296,
          62.96296296296296,
          62.96296296296296,
          64.81481481481481,
          66.66666666666666,
          69.44444444444444,
          70.37037037037037,
          71.29629629629629,
          71.29629629629629,
          72.22222222222221,
          73.14814814814815,
          74.07407407407408,
          75,
          76.85185185185185,
          80.55555555555556,
          80.55555555555556,
          80.55555555555556,
          81.48148148148148,
          83.33333333333334,
          83.33333333333334,
          83.33333333333334,
          85.18518518518519,
          85.18518518518519,
          85.18518518518519,
          87.03703703703704,
          87.96296296296296,
          87.96296296296296,
          88.88888888888889,
          89.81481481481481,
          91.66666666666666,
          91.66666666666666,
          92.5925925925926,
          92.5925925925926,
          92.5925925925926,
          92.5925925925926,
          92.5925925925926,
          92.5925925925926,
          92.5925925925926,
          93.51851851851852,
          93.51851851851852,
          93.51851851851852,
          93.51851851851852,
          94.44444444444444,
          95.37037037037037,
          95.37037037037037,
          95.37037037037037,
          95.37037037037037,
          95.37037037037037,
          95.37037037037037,
          95.37037037037037,
          97.22222222222221,
          97.22222222222221,
          97.22222222222221,
          97.22222222222221,
          97.22222222222221,
          97.22222222222221,
          97.22222222222221,
          97.22222222222221,
          97.22222222222221,
          97.22222222222221,
          97.22222222222221,
          97.22222222222221,
          97.22222222222221,
          97.22222222222221,
          97.22222222222221,
          97.22222222222221,
          97.22222222222221,
          97.22222222222221,
          97.22222222222221,
          97.22222222222221,
          97.22222222222221,
          97.22222222222221,
          97.22222222222221,
          97.22222222222221,
          97.22222222222221,
          97.22222222222221,
          98.14814814814815,
          98.14814814814815,
          98.14814814814815,
          98.14814814814815,
          98.14814814814815,
          98.14814814814815,
          98.14814814814815,
          98.14814814814815,
          98.14814814814815,
          98.14814814814815,
          98.14814814814815,
          98.14814814814815,
          98.14814814814815,
          99.07407407407408,
          99.07407407407408,
          99.07407407407408,
          99.07407407407408,
          99.07407407407408,
          99.07407407407408,
          99.07407407407408,
          99.07407407407408,
          99.07407407407408,
          99.07407407407408,
          99.07407407407408
         ]
        }
       ],
       "layout": {
        "template": {
         "data": {
          "bar": [
           {
            "error_x": {
             "color": "#2a3f5f"
            },
            "error_y": {
             "color": "#2a3f5f"
            },
            "marker": {
             "line": {
              "color": "white",
              "width": 0.5
             },
             "pattern": {
              "fillmode": "overlay",
              "size": 10,
              "solidity": 0.2
             }
            },
            "type": "bar"
           }
          ],
          "barpolar": [
           {
            "marker": {
             "line": {
              "color": "white",
              "width": 0.5
             },
             "pattern": {
              "fillmode": "overlay",
              "size": 10,
              "solidity": 0.2
             }
            },
            "type": "barpolar"
           }
          ],
          "carpet": [
           {
            "aaxis": {
             "endlinecolor": "#2a3f5f",
             "gridcolor": "#C8D4E3",
             "linecolor": "#C8D4E3",
             "minorgridcolor": "#C8D4E3",
             "startlinecolor": "#2a3f5f"
            },
            "baxis": {
             "endlinecolor": "#2a3f5f",
             "gridcolor": "#C8D4E3",
             "linecolor": "#C8D4E3",
             "minorgridcolor": "#C8D4E3",
             "startlinecolor": "#2a3f5f"
            },
            "type": "carpet"
           }
          ],
          "choropleth": [
           {
            "colorbar": {
             "outlinewidth": 0,
             "ticks": ""
            },
            "type": "choropleth"
           }
          ],
          "contour": [
           {
            "colorbar": {
             "outlinewidth": 0,
             "ticks": ""
            },
            "colorscale": [
             [
              0,
              "#0d0887"
             ],
             [
              0.1111111111111111,
              "#46039f"
             ],
             [
              0.2222222222222222,
              "#7201a8"
             ],
             [
              0.3333333333333333,
              "#9c179e"
             ],
             [
              0.4444444444444444,
              "#bd3786"
             ],
             [
              0.5555555555555556,
              "#d8576b"
             ],
             [
              0.6666666666666666,
              "#ed7953"
             ],
             [
              0.7777777777777778,
              "#fb9f3a"
             ],
             [
              0.8888888888888888,
              "#fdca26"
             ],
             [
              1,
              "#f0f921"
             ]
            ],
            "type": "contour"
           }
          ],
          "contourcarpet": [
           {
            "colorbar": {
             "outlinewidth": 0,
             "ticks": ""
            },
            "type": "contourcarpet"
           }
          ],
          "heatmap": [
           {
            "colorbar": {
             "outlinewidth": 0,
             "ticks": ""
            },
            "colorscale": [
             [
              0,
              "#0d0887"
             ],
             [
              0.1111111111111111,
              "#46039f"
             ],
             [
              0.2222222222222222,
              "#7201a8"
             ],
             [
              0.3333333333333333,
              "#9c179e"
             ],
             [
              0.4444444444444444,
              "#bd3786"
             ],
             [
              0.5555555555555556,
              "#d8576b"
             ],
             [
              0.6666666666666666,
              "#ed7953"
             ],
             [
              0.7777777777777778,
              "#fb9f3a"
             ],
             [
              0.8888888888888888,
              "#fdca26"
             ],
             [
              1,
              "#f0f921"
             ]
            ],
            "type": "heatmap"
           }
          ],
          "histogram": [
           {
            "marker": {
             "pattern": {
              "fillmode": "overlay",
              "size": 10,
              "solidity": 0.2
             }
            },
            "type": "histogram"
           }
          ],
          "histogram2d": [
           {
            "colorbar": {
             "outlinewidth": 0,
             "ticks": ""
            },
            "colorscale": [
             [
              0,
              "#0d0887"
             ],
             [
              0.1111111111111111,
              "#46039f"
             ],
             [
              0.2222222222222222,
              "#7201a8"
             ],
             [
              0.3333333333333333,
              "#9c179e"
             ],
             [
              0.4444444444444444,
              "#bd3786"
             ],
             [
              0.5555555555555556,
              "#d8576b"
             ],
             [
              0.6666666666666666,
              "#ed7953"
             ],
             [
              0.7777777777777778,
              "#fb9f3a"
             ],
             [
              0.8888888888888888,
              "#fdca26"
             ],
             [
              1,
              "#f0f921"
             ]
            ],
            "type": "histogram2d"
           }
          ],
          "histogram2dcontour": [
           {
            "colorbar": {
             "outlinewidth": 0,
             "ticks": ""
            },
            "colorscale": [
             [
              0,
              "#0d0887"
             ],
             [
              0.1111111111111111,
              "#46039f"
             ],
             [
              0.2222222222222222,
              "#7201a8"
             ],
             [
              0.3333333333333333,
              "#9c179e"
             ],
             [
              0.4444444444444444,
              "#bd3786"
             ],
             [
              0.5555555555555556,
              "#d8576b"
             ],
             [
              0.6666666666666666,
              "#ed7953"
             ],
             [
              0.7777777777777778,
              "#fb9f3a"
             ],
             [
              0.8888888888888888,
              "#fdca26"
             ],
             [
              1,
              "#f0f921"
             ]
            ],
            "type": "histogram2dcontour"
           }
          ],
          "mesh3d": [
           {
            "colorbar": {
             "outlinewidth": 0,
             "ticks": ""
            },
            "type": "mesh3d"
           }
          ],
          "parcoords": [
           {
            "line": {
             "colorbar": {
              "outlinewidth": 0,
              "ticks": ""
             }
            },
            "type": "parcoords"
           }
          ],
          "pie": [
           {
            "automargin": true,
            "type": "pie"
           }
          ],
          "scatter": [
           {
            "fillpattern": {
             "fillmode": "overlay",
             "size": 10,
             "solidity": 0.2
            },
            "type": "scatter"
           }
          ],
          "scatter3d": [
           {
            "line": {
             "colorbar": {
              "outlinewidth": 0,
              "ticks": ""
             }
            },
            "marker": {
             "colorbar": {
              "outlinewidth": 0,
              "ticks": ""
             }
            },
            "type": "scatter3d"
           }
          ],
          "scattercarpet": [
           {
            "marker": {
             "colorbar": {
              "outlinewidth": 0,
              "ticks": ""
             }
            },
            "type": "scattercarpet"
           }
          ],
          "scattergeo": [
           {
            "marker": {
             "colorbar": {
              "outlinewidth": 0,
              "ticks": ""
             }
            },
            "type": "scattergeo"
           }
          ],
          "scattergl": [
           {
            "marker": {
             "colorbar": {
              "outlinewidth": 0,
              "ticks": ""
             }
            },
            "type": "scattergl"
           }
          ],
          "scattermap": [
           {
            "marker": {
             "colorbar": {
              "outlinewidth": 0,
              "ticks": ""
             }
            },
            "type": "scattermap"
           }
          ],
          "scattermapbox": [
           {
            "marker": {
             "colorbar": {
              "outlinewidth": 0,
              "ticks": ""
             }
            },
            "type": "scattermapbox"
           }
          ],
          "scatterpolar": [
           {
            "marker": {
             "colorbar": {
              "outlinewidth": 0,
              "ticks": ""
             }
            },
            "type": "scatterpolar"
           }
          ],
          "scatterpolargl": [
           {
            "marker": {
             "colorbar": {
              "outlinewidth": 0,
              "ticks": ""
             }
            },
            "type": "scatterpolargl"
           }
          ],
          "scatterternary": [
           {
            "marker": {
             "colorbar": {
              "outlinewidth": 0,
              "ticks": ""
             }
            },
            "type": "scatterternary"
           }
          ],
          "surface": [
           {
            "colorbar": {
             "outlinewidth": 0,
             "ticks": ""
            },
            "colorscale": [
             [
              0,
              "#0d0887"
             ],
             [
              0.1111111111111111,
              "#46039f"
             ],
             [
              0.2222222222222222,
              "#7201a8"
             ],
             [
              0.3333333333333333,
              "#9c179e"
             ],
             [
              0.4444444444444444,
              "#bd3786"
             ],
             [
              0.5555555555555556,
              "#d8576b"
             ],
             [
              0.6666666666666666,
              "#ed7953"
             ],
             [
              0.7777777777777778,
              "#fb9f3a"
             ],
             [
              0.8888888888888888,
              "#fdca26"
             ],
             [
              1,
              "#f0f921"
             ]
            ],
            "type": "surface"
           }
          ],
          "table": [
           {
            "cells": {
             "fill": {
              "color": "#EBF0F8"
             },
             "line": {
              "color": "white"
             }
            },
            "header": {
             "fill": {
              "color": "#C8D4E3"
             },
             "line": {
              "color": "white"
             }
            },
            "type": "table"
           }
          ]
         },
         "layout": {
          "annotationdefaults": {
           "arrowcolor": "#2a3f5f",
           "arrowhead": 0,
           "arrowwidth": 1
          },
          "autotypenumbers": "strict",
          "coloraxis": {
           "colorbar": {
            "outlinewidth": 0,
            "ticks": ""
           }
          },
          "colorscale": {
           "diverging": [
            [
             0,
             "#8e0152"
            ],
            [
             0.1,
             "#c51b7d"
            ],
            [
             0.2,
             "#de77ae"
            ],
            [
             0.3,
             "#f1b6da"
            ],
            [
             0.4,
             "#fde0ef"
            ],
            [
             0.5,
             "#f7f7f7"
            ],
            [
             0.6,
             "#e6f5d0"
            ],
            [
             0.7,
             "#b8e186"
            ],
            [
             0.8,
             "#7fbc41"
            ],
            [
             0.9,
             "#4d9221"
            ],
            [
             1,
             "#276419"
            ]
           ],
           "sequential": [
            [
             0,
             "#0d0887"
            ],
            [
             0.1111111111111111,
             "#46039f"
            ],
            [
             0.2222222222222222,
             "#7201a8"
            ],
            [
             0.3333333333333333,
             "#9c179e"
            ],
            [
             0.4444444444444444,
             "#bd3786"
            ],
            [
             0.5555555555555556,
             "#d8576b"
            ],
            [
             0.6666666666666666,
             "#ed7953"
            ],
            [
             0.7777777777777778,
             "#fb9f3a"
            ],
            [
             0.8888888888888888,
             "#fdca26"
            ],
            [
             1,
             "#f0f921"
            ]
           ],
           "sequentialminus": [
            [
             0,
             "#0d0887"
            ],
            [
             0.1111111111111111,
             "#46039f"
            ],
            [
             0.2222222222222222,
             "#7201a8"
            ],
            [
             0.3333333333333333,
             "#9c179e"
            ],
            [
             0.4444444444444444,
             "#bd3786"
            ],
            [
             0.5555555555555556,
             "#d8576b"
            ],
            [
             0.6666666666666666,
             "#ed7953"
            ],
            [
             0.7777777777777778,
             "#fb9f3a"
            ],
            [
             0.8888888888888888,
             "#fdca26"
            ],
            [
             1,
             "#f0f921"
            ]
           ]
          },
          "colorway": [
           "#636efa",
           "#EF553B",
           "#00cc96",
           "#ab63fa",
           "#FFA15A",
           "#19d3f3",
           "#FF6692",
           "#B6E880",
           "#FF97FF",
           "#FECB52"
          ],
          "font": {
           "color": "#2a3f5f"
          },
          "geo": {
           "bgcolor": "white",
           "lakecolor": "white",
           "landcolor": "white",
           "showlakes": true,
           "showland": true,
           "subunitcolor": "#C8D4E3"
          },
          "hoverlabel": {
           "align": "left"
          },
          "hovermode": "closest",
          "mapbox": {
           "style": "light"
          },
          "paper_bgcolor": "white",
          "plot_bgcolor": "white",
          "polar": {
           "angularaxis": {
            "gridcolor": "#EBF0F8",
            "linecolor": "#EBF0F8",
            "ticks": ""
           },
           "bgcolor": "white",
           "radialaxis": {
            "gridcolor": "#EBF0F8",
            "linecolor": "#EBF0F8",
            "ticks": ""
           }
          },
          "scene": {
           "xaxis": {
            "backgroundcolor": "white",
            "gridcolor": "#DFE8F3",
            "gridwidth": 2,
            "linecolor": "#EBF0F8",
            "showbackground": true,
            "ticks": "",
            "zerolinecolor": "#EBF0F8"
           },
           "yaxis": {
            "backgroundcolor": "white",
            "gridcolor": "#DFE8F3",
            "gridwidth": 2,
            "linecolor": "#EBF0F8",
            "showbackground": true,
            "ticks": "",
            "zerolinecolor": "#EBF0F8"
           },
           "zaxis": {
            "backgroundcolor": "white",
            "gridcolor": "#DFE8F3",
            "gridwidth": 2,
            "linecolor": "#EBF0F8",
            "showbackground": true,
            "ticks": "",
            "zerolinecolor": "#EBF0F8"
           }
          },
          "shapedefaults": {
           "line": {
            "color": "#2a3f5f"
           }
          },
          "ternary": {
           "aaxis": {
            "gridcolor": "#DFE8F3",
            "linecolor": "#A2B1C6",
            "ticks": ""
           },
           "baxis": {
            "gridcolor": "#DFE8F3",
            "linecolor": "#A2B1C6",
            "ticks": ""
           },
           "bgcolor": "white",
           "caxis": {
            "gridcolor": "#DFE8F3",
            "linecolor": "#A2B1C6",
            "ticks": ""
           }
          },
          "title": {
           "x": 0.05
          },
          "xaxis": {
           "automargin": true,
           "gridcolor": "#EBF0F8",
           "linecolor": "#EBF0F8",
           "ticks": "",
           "title": {
            "standoff": 15
           },
           "zerolinecolor": "#EBF0F8",
           "zerolinewidth": 2
          },
          "yaxis": {
           "automargin": true,
           "gridcolor": "#EBF0F8",
           "linecolor": "#EBF0F8",
           "ticks": "",
           "title": {
            "standoff": 15
           },
           "zerolinecolor": "#EBF0F8",
           "zerolinewidth": 2
          }
         }
        },
        "title": {
         "text": "Hit Rate vs k"
        },
        "xaxis": {
         "title": {
          "text": "k (Top-k)"
         }
        },
        "yaxis": {
         "title": {
          "text": "Hit Rate (%)"
         }
        }
       }
      }
     },
     "metadata": {},
     "output_type": "display_data"
    },
    {
     "data": {
      "text/plain": [
       "([1,\n",
       "  2,\n",
       "  3,\n",
       "  4,\n",
       "  5,\n",
       "  6,\n",
       "  7,\n",
       "  8,\n",
       "  9,\n",
       "  10,\n",
       "  11,\n",
       "  12,\n",
       "  13,\n",
       "  14,\n",
       "  15,\n",
       "  16,\n",
       "  17,\n",
       "  18,\n",
       "  19,\n",
       "  20,\n",
       "  21,\n",
       "  22,\n",
       "  23,\n",
       "  24,\n",
       "  25,\n",
       "  26,\n",
       "  27,\n",
       "  28,\n",
       "  29,\n",
       "  30,\n",
       "  31,\n",
       "  32,\n",
       "  33,\n",
       "  34,\n",
       "  35,\n",
       "  36,\n",
       "  37,\n",
       "  38,\n",
       "  39,\n",
       "  40,\n",
       "  41,\n",
       "  42,\n",
       "  43,\n",
       "  44,\n",
       "  45,\n",
       "  46,\n",
       "  47,\n",
       "  48,\n",
       "  49,\n",
       "  50,\n",
       "  51,\n",
       "  52,\n",
       "  53,\n",
       "  54,\n",
       "  55,\n",
       "  56,\n",
       "  57,\n",
       "  58,\n",
       "  59,\n",
       "  60,\n",
       "  61,\n",
       "  62,\n",
       "  63,\n",
       "  64,\n",
       "  65,\n",
       "  66,\n",
       "  67,\n",
       "  68,\n",
       "  69,\n",
       "  70,\n",
       "  71,\n",
       "  72,\n",
       "  73,\n",
       "  74,\n",
       "  75,\n",
       "  76,\n",
       "  77,\n",
       "  78,\n",
       "  79,\n",
       "  80,\n",
       "  81,\n",
       "  82,\n",
       "  83,\n",
       "  84,\n",
       "  85,\n",
       "  86,\n",
       "  87,\n",
       "  88,\n",
       "  89,\n",
       "  90,\n",
       "  91,\n",
       "  92,\n",
       "  93,\n",
       "  94,\n",
       "  95,\n",
       "  96,\n",
       "  97,\n",
       "  98,\n",
       "  99,\n",
       "  100,\n",
       "  101,\n",
       "  102,\n",
       "  103,\n",
       "  104,\n",
       "  105,\n",
       "  106,\n",
       "  107,\n",
       "  108],\n",
       " [25.0,\n",
       "  35.18518518518518,\n",
       "  41.66666666666667,\n",
       "  48.148148148148145,\n",
       "  48.148148148148145,\n",
       "  52.77777777777778,\n",
       "  55.55555555555556,\n",
       "  61.111111111111114,\n",
       "  62.96296296296296,\n",
       "  62.96296296296296,\n",
       "  62.96296296296296,\n",
       "  64.81481481481481,\n",
       "  66.66666666666666,\n",
       "  69.44444444444444,\n",
       "  70.37037037037037,\n",
       "  71.29629629629629,\n",
       "  71.29629629629629,\n",
       "  72.22222222222221,\n",
       "  73.14814814814815,\n",
       "  74.07407407407408,\n",
       "  75.0,\n",
       "  76.85185185185185,\n",
       "  80.55555555555556,\n",
       "  80.55555555555556,\n",
       "  80.55555555555556,\n",
       "  81.48148148148148,\n",
       "  83.33333333333334,\n",
       "  83.33333333333334,\n",
       "  83.33333333333334,\n",
       "  85.18518518518519,\n",
       "  85.18518518518519,\n",
       "  85.18518518518519,\n",
       "  87.03703703703704,\n",
       "  87.96296296296296,\n",
       "  87.96296296296296,\n",
       "  88.88888888888889,\n",
       "  89.81481481481481,\n",
       "  91.66666666666666,\n",
       "  91.66666666666666,\n",
       "  92.5925925925926,\n",
       "  92.5925925925926,\n",
       "  92.5925925925926,\n",
       "  92.5925925925926,\n",
       "  92.5925925925926,\n",
       "  92.5925925925926,\n",
       "  92.5925925925926,\n",
       "  93.51851851851852,\n",
       "  93.51851851851852,\n",
       "  93.51851851851852,\n",
       "  93.51851851851852,\n",
       "  94.44444444444444,\n",
       "  95.37037037037037,\n",
       "  95.37037037037037,\n",
       "  95.37037037037037,\n",
       "  95.37037037037037,\n",
       "  95.37037037037037,\n",
       "  95.37037037037037,\n",
       "  95.37037037037037,\n",
       "  97.22222222222221,\n",
       "  97.22222222222221,\n",
       "  97.22222222222221,\n",
       "  97.22222222222221,\n",
       "  97.22222222222221,\n",
       "  97.22222222222221,\n",
       "  97.22222222222221,\n",
       "  97.22222222222221,\n",
       "  97.22222222222221,\n",
       "  97.22222222222221,\n",
       "  97.22222222222221,\n",
       "  97.22222222222221,\n",
       "  97.22222222222221,\n",
       "  97.22222222222221,\n",
       "  97.22222222222221,\n",
       "  97.22222222222221,\n",
       "  97.22222222222221,\n",
       "  97.22222222222221,\n",
       "  97.22222222222221,\n",
       "  97.22222222222221,\n",
       "  97.22222222222221,\n",
       "  97.22222222222221,\n",
       "  97.22222222222221,\n",
       "  97.22222222222221,\n",
       "  97.22222222222221,\n",
       "  97.22222222222221,\n",
       "  98.14814814814815,\n",
       "  98.14814814814815,\n",
       "  98.14814814814815,\n",
       "  98.14814814814815,\n",
       "  98.14814814814815,\n",
       "  98.14814814814815,\n",
       "  98.14814814814815,\n",
       "  98.14814814814815,\n",
       "  98.14814814814815,\n",
       "  98.14814814814815,\n",
       "  98.14814814814815,\n",
       "  98.14814814814815,\n",
       "  98.14814814814815,\n",
       "  99.07407407407408,\n",
       "  99.07407407407408,\n",
       "  99.07407407407408,\n",
       "  99.07407407407408,\n",
       "  99.07407407407408,\n",
       "  99.07407407407408,\n",
       "  99.07407407407408,\n",
       "  99.07407407407408,\n",
       "  99.07407407407408,\n",
       "  99.07407407407408,\n",
       "  99.07407407407408])"
      ]
     },
     "execution_count": 38,
     "metadata": {},
     "output_type": "execute_result"
    }
   ],
   "source": [
    "plot_hit_rate_plotly(data_folder, k_max=108)"
   ]
  },
  {
   "cell_type": "code",
   "execution_count": null,
   "id": "f7289db1",
   "metadata": {},
   "outputs": [],
   "source": [
    "### LSH"
   ]
  },
  {
   "cell_type": "code",
   "execution_count": 39,
   "id": "0fdb8a58",
   "metadata": {},
   "outputs": [],
   "source": [
    "\n",
    "\n",
    "def load_templates(data_folder):\n",
    "    \"\"\"\n",
    "    Load enrollment templates (excluding '_3') from .mat files.\n",
    "    Returns: vectors (ndarray), labels (list)\n",
    "    \"\"\"\n",
    "    files = sorted([f for f in os.listdir(data_folder) if f.endswith('.mat')])\n",
    "    vectors, labels = [], []\n",
    "\n",
    "    for file in files:\n",
    "        if '_3' in file:  # Skip probe templates\n",
    "            continue\n",
    "\n",
    "        path = os.path.join(data_folder, file)\n",
    "        data = loadmat(path)\n",
    "\n",
    "        vec = data['template'].flatten().astype('float32')\n",
    "        pid, side = file.split('_')[0], file.split('_')[1]\n",
    "        labels.append(f\"{pid}_{side}\")\n",
    "        vectors.append(vec)\n",
    "\n",
    "    return np.vstack(vectors), labels\n",
    "\n",
    "\n",
    "def create_lsh_index(vectors, nbits=128):\n",
    "    \"\"\"\n",
    "    Create a standard LSH index (binary hashing).\n",
    "    nbits: number of bits for hashing.\n",
    "    \"\"\"\n",
    "    d = vectors.shape[1]\n",
    "    index = faiss.IndexLSH(d, nbits)\n",
    "    index.add(vectors)\n",
    "    return index\n",
    "\n",
    "\n",
    "def evaluate_accuracy(index, labels, data_folder, k):\n",
    "    \"\"\"\n",
    "    Evaluate top-k accuracy using probe templates ('_3').\n",
    "    Returns: accuracy (float), total_queries (int)\n",
    "    \"\"\"\n",
    "    query_files = sorted([f for f in os.listdir(data_folder) if '_3' in f and f.endswith('.mat')])\n",
    "    correct, total = 0, 0\n",
    "\n",
    "    for qf in query_files:\n",
    "        qpid = qf.split('_')[0]\n",
    "        qpath = os.path.join(data_folder, qf)\n",
    "\n",
    "        qvec = loadmat(qpath)['template'].flatten().astype('float32').reshape(1, -1)\n",
    "        distances, indices = index.search(qvec, k)\n",
    "\n",
    "        predicted_pids = [labels[i].split('_')[0] for i in indices[0]]\n",
    "        if qpid in predicted_pids:\n",
    "            correct += 1\n",
    "        total += 1\n",
    "\n",
    "    return (correct / total if total > 0 else 0)\n",
    "\n",
    "\n",
    "def plot_hit_rate_plotly(data_folder, k_max=50):\n",
    "    vectors, labels = load_templates(data_folder)\n",
    "    index = create_lsh_index(vectors)\n",
    "\n",
    "    k_values = list(range(1, k_max + 1))\n",
    "    hit_rates = []\n",
    "\n",
    "    for k in k_values:\n",
    "        acc = evaluate_accuracy(index, labels, data_folder, k)\n",
    "        hit_rates.append(acc * 100)  # in %\n",
    "\n",
    "    # ---- Save results to CSV ----\n",
    "    with open(\"/home/nishkal/sg/iris_indexing/results/CASIA1_LSH_results.csv\", mode='w', newline='') as file:\n",
    "        writer = csv.writer(file)\n",
    "        writer.writerow([\"k\", \"hit_rate_percent\"])\n",
    "        for k_val, hr in zip(k_values, hit_rates):\n",
    "            writer.writerow([k_val, hr])\n",
    "    # print(f\"Results saved to {csv_path}\")\n",
    "\n",
    "    \n",
    "\n",
    "    # ---- Plot interactive graph ----\n",
    "    fig = go.Figure()\n",
    "    fig.add_trace(go.Scatter(\n",
    "        x=k_values, y=hit_rates,\n",
    "        mode='lines+markers',\n",
    "        name='Hit Rate (%)',\n",
    "        line=dict(color='blue', width=2)\n",
    "    ))\n",
    "    fig.update_layout(\n",
    "        title=\"Hit Rate vs k\",\n",
    "        xaxis_title=\"k (Top-k)\",\n",
    "        yaxis_title=\"Hit Rate (%)\",\n",
    "        template=\"plotly_white\"\n",
    "    )\n",
    "    fig.show()\n",
    "    return k_values, hit_rates"
   ]
  },
  {
   "cell_type": "code",
   "execution_count": 40,
   "id": "527d1384",
   "metadata": {},
   "outputs": [
    {
     "data": {
      "application/vnd.plotly.v1+json": {
       "config": {
        "plotlyServerURL": "https://plot.ly"
       },
       "data": [
        {
         "line": {
          "color": "blue",
          "width": 2
         },
         "mode": "lines+markers",
         "name": "Hit Rate (%)",
         "type": "scatter",
         "x": [
          1,
          2,
          3,
          4,
          5,
          6,
          7,
          8,
          9,
          10,
          11,
          12,
          13,
          14,
          15,
          16,
          17,
          18,
          19,
          20,
          21,
          22,
          23,
          24,
          25,
          26,
          27,
          28,
          29,
          30,
          31,
          32,
          33,
          34,
          35,
          36,
          37,
          38,
          39,
          40,
          41,
          42,
          43,
          44,
          45,
          46,
          47,
          48,
          49,
          50,
          51,
          52,
          53,
          54,
          55,
          56,
          57,
          58,
          59,
          60,
          61,
          62,
          63,
          64,
          65,
          66,
          67,
          68,
          69,
          70,
          71,
          72,
          73,
          74,
          75,
          76,
          77,
          78,
          79,
          80,
          81,
          82,
          83,
          84,
          85,
          86,
          87,
          88,
          89,
          90,
          91,
          92,
          93,
          94,
          95,
          96,
          97,
          98,
          99,
          100,
          101,
          102,
          103,
          104,
          105,
          106,
          107,
          108
         ],
         "y": [
          25,
          35.18518518518518,
          41.66666666666667,
          48.148148148148145,
          48.148148148148145,
          52.77777777777778,
          55.55555555555556,
          61.111111111111114,
          62.96296296296296,
          62.96296296296296,
          62.96296296296296,
          64.81481481481481,
          66.66666666666666,
          69.44444444444444,
          70.37037037037037,
          71.29629629629629,
          71.29629629629629,
          72.22222222222221,
          73.14814814814815,
          74.07407407407408,
          75,
          76.85185185185185,
          80.55555555555556,
          80.55555555555556,
          80.55555555555556,
          81.48148148148148,
          83.33333333333334,
          83.33333333333334,
          83.33333333333334,
          85.18518518518519,
          85.18518518518519,
          85.18518518518519,
          87.03703703703704,
          87.96296296296296,
          87.96296296296296,
          88.88888888888889,
          89.81481481481481,
          91.66666666666666,
          91.66666666666666,
          92.5925925925926,
          92.5925925925926,
          92.5925925925926,
          92.5925925925926,
          92.5925925925926,
          92.5925925925926,
          92.5925925925926,
          93.51851851851852,
          93.51851851851852,
          93.51851851851852,
          93.51851851851852,
          94.44444444444444,
          95.37037037037037,
          95.37037037037037,
          95.37037037037037,
          95.37037037037037,
          95.37037037037037,
          95.37037037037037,
          95.37037037037037,
          97.22222222222221,
          97.22222222222221,
          97.22222222222221,
          97.22222222222221,
          97.22222222222221,
          97.22222222222221,
          97.22222222222221,
          97.22222222222221,
          97.22222222222221,
          97.22222222222221,
          97.22222222222221,
          97.22222222222221,
          97.22222222222221,
          97.22222222222221,
          97.22222222222221,
          97.22222222222221,
          97.22222222222221,
          97.22222222222221,
          97.22222222222221,
          97.22222222222221,
          97.22222222222221,
          97.22222222222221,
          97.22222222222221,
          97.22222222222221,
          97.22222222222221,
          97.22222222222221,
          98.14814814814815,
          98.14814814814815,
          98.14814814814815,
          98.14814814814815,
          98.14814814814815,
          98.14814814814815,
          98.14814814814815,
          98.14814814814815,
          98.14814814814815,
          98.14814814814815,
          98.14814814814815,
          98.14814814814815,
          98.14814814814815,
          99.07407407407408,
          99.07407407407408,
          99.07407407407408,
          99.07407407407408,
          99.07407407407408,
          99.07407407407408,
          99.07407407407408,
          99.07407407407408,
          99.07407407407408,
          99.07407407407408,
          99.07407407407408
         ]
        }
       ],
       "layout": {
        "template": {
         "data": {
          "bar": [
           {
            "error_x": {
             "color": "#2a3f5f"
            },
            "error_y": {
             "color": "#2a3f5f"
            },
            "marker": {
             "line": {
              "color": "white",
              "width": 0.5
             },
             "pattern": {
              "fillmode": "overlay",
              "size": 10,
              "solidity": 0.2
             }
            },
            "type": "bar"
           }
          ],
          "barpolar": [
           {
            "marker": {
             "line": {
              "color": "white",
              "width": 0.5
             },
             "pattern": {
              "fillmode": "overlay",
              "size": 10,
              "solidity": 0.2
             }
            },
            "type": "barpolar"
           }
          ],
          "carpet": [
           {
            "aaxis": {
             "endlinecolor": "#2a3f5f",
             "gridcolor": "#C8D4E3",
             "linecolor": "#C8D4E3",
             "minorgridcolor": "#C8D4E3",
             "startlinecolor": "#2a3f5f"
            },
            "baxis": {
             "endlinecolor": "#2a3f5f",
             "gridcolor": "#C8D4E3",
             "linecolor": "#C8D4E3",
             "minorgridcolor": "#C8D4E3",
             "startlinecolor": "#2a3f5f"
            },
            "type": "carpet"
           }
          ],
          "choropleth": [
           {
            "colorbar": {
             "outlinewidth": 0,
             "ticks": ""
            },
            "type": "choropleth"
           }
          ],
          "contour": [
           {
            "colorbar": {
             "outlinewidth": 0,
             "ticks": ""
            },
            "colorscale": [
             [
              0,
              "#0d0887"
             ],
             [
              0.1111111111111111,
              "#46039f"
             ],
             [
              0.2222222222222222,
              "#7201a8"
             ],
             [
              0.3333333333333333,
              "#9c179e"
             ],
             [
              0.4444444444444444,
              "#bd3786"
             ],
             [
              0.5555555555555556,
              "#d8576b"
             ],
             [
              0.6666666666666666,
              "#ed7953"
             ],
             [
              0.7777777777777778,
              "#fb9f3a"
             ],
             [
              0.8888888888888888,
              "#fdca26"
             ],
             [
              1,
              "#f0f921"
             ]
            ],
            "type": "contour"
           }
          ],
          "contourcarpet": [
           {
            "colorbar": {
             "outlinewidth": 0,
             "ticks": ""
            },
            "type": "contourcarpet"
           }
          ],
          "heatmap": [
           {
            "colorbar": {
             "outlinewidth": 0,
             "ticks": ""
            },
            "colorscale": [
             [
              0,
              "#0d0887"
             ],
             [
              0.1111111111111111,
              "#46039f"
             ],
             [
              0.2222222222222222,
              "#7201a8"
             ],
             [
              0.3333333333333333,
              "#9c179e"
             ],
             [
              0.4444444444444444,
              "#bd3786"
             ],
             [
              0.5555555555555556,
              "#d8576b"
             ],
             [
              0.6666666666666666,
              "#ed7953"
             ],
             [
              0.7777777777777778,
              "#fb9f3a"
             ],
             [
              0.8888888888888888,
              "#fdca26"
             ],
             [
              1,
              "#f0f921"
             ]
            ],
            "type": "heatmap"
           }
          ],
          "histogram": [
           {
            "marker": {
             "pattern": {
              "fillmode": "overlay",
              "size": 10,
              "solidity": 0.2
             }
            },
            "type": "histogram"
           }
          ],
          "histogram2d": [
           {
            "colorbar": {
             "outlinewidth": 0,
             "ticks": ""
            },
            "colorscale": [
             [
              0,
              "#0d0887"
             ],
             [
              0.1111111111111111,
              "#46039f"
             ],
             [
              0.2222222222222222,
              "#7201a8"
             ],
             [
              0.3333333333333333,
              "#9c179e"
             ],
             [
              0.4444444444444444,
              "#bd3786"
             ],
             [
              0.5555555555555556,
              "#d8576b"
             ],
             [
              0.6666666666666666,
              "#ed7953"
             ],
             [
              0.7777777777777778,
              "#fb9f3a"
             ],
             [
              0.8888888888888888,
              "#fdca26"
             ],
             [
              1,
              "#f0f921"
             ]
            ],
            "type": "histogram2d"
           }
          ],
          "histogram2dcontour": [
           {
            "colorbar": {
             "outlinewidth": 0,
             "ticks": ""
            },
            "colorscale": [
             [
              0,
              "#0d0887"
             ],
             [
              0.1111111111111111,
              "#46039f"
             ],
             [
              0.2222222222222222,
              "#7201a8"
             ],
             [
              0.3333333333333333,
              "#9c179e"
             ],
             [
              0.4444444444444444,
              "#bd3786"
             ],
             [
              0.5555555555555556,
              "#d8576b"
             ],
             [
              0.6666666666666666,
              "#ed7953"
             ],
             [
              0.7777777777777778,
              "#fb9f3a"
             ],
             [
              0.8888888888888888,
              "#fdca26"
             ],
             [
              1,
              "#f0f921"
             ]
            ],
            "type": "histogram2dcontour"
           }
          ],
          "mesh3d": [
           {
            "colorbar": {
             "outlinewidth": 0,
             "ticks": ""
            },
            "type": "mesh3d"
           }
          ],
          "parcoords": [
           {
            "line": {
             "colorbar": {
              "outlinewidth": 0,
              "ticks": ""
             }
            },
            "type": "parcoords"
           }
          ],
          "pie": [
           {
            "automargin": true,
            "type": "pie"
           }
          ],
          "scatter": [
           {
            "fillpattern": {
             "fillmode": "overlay",
             "size": 10,
             "solidity": 0.2
            },
            "type": "scatter"
           }
          ],
          "scatter3d": [
           {
            "line": {
             "colorbar": {
              "outlinewidth": 0,
              "ticks": ""
             }
            },
            "marker": {
             "colorbar": {
              "outlinewidth": 0,
              "ticks": ""
             }
            },
            "type": "scatter3d"
           }
          ],
          "scattercarpet": [
           {
            "marker": {
             "colorbar": {
              "outlinewidth": 0,
              "ticks": ""
             }
            },
            "type": "scattercarpet"
           }
          ],
          "scattergeo": [
           {
            "marker": {
             "colorbar": {
              "outlinewidth": 0,
              "ticks": ""
             }
            },
            "type": "scattergeo"
           }
          ],
          "scattergl": [
           {
            "marker": {
             "colorbar": {
              "outlinewidth": 0,
              "ticks": ""
             }
            },
            "type": "scattergl"
           }
          ],
          "scattermap": [
           {
            "marker": {
             "colorbar": {
              "outlinewidth": 0,
              "ticks": ""
             }
            },
            "type": "scattermap"
           }
          ],
          "scattermapbox": [
           {
            "marker": {
             "colorbar": {
              "outlinewidth": 0,
              "ticks": ""
             }
            },
            "type": "scattermapbox"
           }
          ],
          "scatterpolar": [
           {
            "marker": {
             "colorbar": {
              "outlinewidth": 0,
              "ticks": ""
             }
            },
            "type": "scatterpolar"
           }
          ],
          "scatterpolargl": [
           {
            "marker": {
             "colorbar": {
              "outlinewidth": 0,
              "ticks": ""
             }
            },
            "type": "scatterpolargl"
           }
          ],
          "scatterternary": [
           {
            "marker": {
             "colorbar": {
              "outlinewidth": 0,
              "ticks": ""
             }
            },
            "type": "scatterternary"
           }
          ],
          "surface": [
           {
            "colorbar": {
             "outlinewidth": 0,
             "ticks": ""
            },
            "colorscale": [
             [
              0,
              "#0d0887"
             ],
             [
              0.1111111111111111,
              "#46039f"
             ],
             [
              0.2222222222222222,
              "#7201a8"
             ],
             [
              0.3333333333333333,
              "#9c179e"
             ],
             [
              0.4444444444444444,
              "#bd3786"
             ],
             [
              0.5555555555555556,
              "#d8576b"
             ],
             [
              0.6666666666666666,
              "#ed7953"
             ],
             [
              0.7777777777777778,
              "#fb9f3a"
             ],
             [
              0.8888888888888888,
              "#fdca26"
             ],
             [
              1,
              "#f0f921"
             ]
            ],
            "type": "surface"
           }
          ],
          "table": [
           {
            "cells": {
             "fill": {
              "color": "#EBF0F8"
             },
             "line": {
              "color": "white"
             }
            },
            "header": {
             "fill": {
              "color": "#C8D4E3"
             },
             "line": {
              "color": "white"
             }
            },
            "type": "table"
           }
          ]
         },
         "layout": {
          "annotationdefaults": {
           "arrowcolor": "#2a3f5f",
           "arrowhead": 0,
           "arrowwidth": 1
          },
          "autotypenumbers": "strict",
          "coloraxis": {
           "colorbar": {
            "outlinewidth": 0,
            "ticks": ""
           }
          },
          "colorscale": {
           "diverging": [
            [
             0,
             "#8e0152"
            ],
            [
             0.1,
             "#c51b7d"
            ],
            [
             0.2,
             "#de77ae"
            ],
            [
             0.3,
             "#f1b6da"
            ],
            [
             0.4,
             "#fde0ef"
            ],
            [
             0.5,
             "#f7f7f7"
            ],
            [
             0.6,
             "#e6f5d0"
            ],
            [
             0.7,
             "#b8e186"
            ],
            [
             0.8,
             "#7fbc41"
            ],
            [
             0.9,
             "#4d9221"
            ],
            [
             1,
             "#276419"
            ]
           ],
           "sequential": [
            [
             0,
             "#0d0887"
            ],
            [
             0.1111111111111111,
             "#46039f"
            ],
            [
             0.2222222222222222,
             "#7201a8"
            ],
            [
             0.3333333333333333,
             "#9c179e"
            ],
            [
             0.4444444444444444,
             "#bd3786"
            ],
            [
             0.5555555555555556,
             "#d8576b"
            ],
            [
             0.6666666666666666,
             "#ed7953"
            ],
            [
             0.7777777777777778,
             "#fb9f3a"
            ],
            [
             0.8888888888888888,
             "#fdca26"
            ],
            [
             1,
             "#f0f921"
            ]
           ],
           "sequentialminus": [
            [
             0,
             "#0d0887"
            ],
            [
             0.1111111111111111,
             "#46039f"
            ],
            [
             0.2222222222222222,
             "#7201a8"
            ],
            [
             0.3333333333333333,
             "#9c179e"
            ],
            [
             0.4444444444444444,
             "#bd3786"
            ],
            [
             0.5555555555555556,
             "#d8576b"
            ],
            [
             0.6666666666666666,
             "#ed7953"
            ],
            [
             0.7777777777777778,
             "#fb9f3a"
            ],
            [
             0.8888888888888888,
             "#fdca26"
            ],
            [
             1,
             "#f0f921"
            ]
           ]
          },
          "colorway": [
           "#636efa",
           "#EF553B",
           "#00cc96",
           "#ab63fa",
           "#FFA15A",
           "#19d3f3",
           "#FF6692",
           "#B6E880",
           "#FF97FF",
           "#FECB52"
          ],
          "font": {
           "color": "#2a3f5f"
          },
          "geo": {
           "bgcolor": "white",
           "lakecolor": "white",
           "landcolor": "white",
           "showlakes": true,
           "showland": true,
           "subunitcolor": "#C8D4E3"
          },
          "hoverlabel": {
           "align": "left"
          },
          "hovermode": "closest",
          "mapbox": {
           "style": "light"
          },
          "paper_bgcolor": "white",
          "plot_bgcolor": "white",
          "polar": {
           "angularaxis": {
            "gridcolor": "#EBF0F8",
            "linecolor": "#EBF0F8",
            "ticks": ""
           },
           "bgcolor": "white",
           "radialaxis": {
            "gridcolor": "#EBF0F8",
            "linecolor": "#EBF0F8",
            "ticks": ""
           }
          },
          "scene": {
           "xaxis": {
            "backgroundcolor": "white",
            "gridcolor": "#DFE8F3",
            "gridwidth": 2,
            "linecolor": "#EBF0F8",
            "showbackground": true,
            "ticks": "",
            "zerolinecolor": "#EBF0F8"
           },
           "yaxis": {
            "backgroundcolor": "white",
            "gridcolor": "#DFE8F3",
            "gridwidth": 2,
            "linecolor": "#EBF0F8",
            "showbackground": true,
            "ticks": "",
            "zerolinecolor": "#EBF0F8"
           },
           "zaxis": {
            "backgroundcolor": "white",
            "gridcolor": "#DFE8F3",
            "gridwidth": 2,
            "linecolor": "#EBF0F8",
            "showbackground": true,
            "ticks": "",
            "zerolinecolor": "#EBF0F8"
           }
          },
          "shapedefaults": {
           "line": {
            "color": "#2a3f5f"
           }
          },
          "ternary": {
           "aaxis": {
            "gridcolor": "#DFE8F3",
            "linecolor": "#A2B1C6",
            "ticks": ""
           },
           "baxis": {
            "gridcolor": "#DFE8F3",
            "linecolor": "#A2B1C6",
            "ticks": ""
           },
           "bgcolor": "white",
           "caxis": {
            "gridcolor": "#DFE8F3",
            "linecolor": "#A2B1C6",
            "ticks": ""
           }
          },
          "title": {
           "x": 0.05
          },
          "xaxis": {
           "automargin": true,
           "gridcolor": "#EBF0F8",
           "linecolor": "#EBF0F8",
           "ticks": "",
           "title": {
            "standoff": 15
           },
           "zerolinecolor": "#EBF0F8",
           "zerolinewidth": 2
          },
          "yaxis": {
           "automargin": true,
           "gridcolor": "#EBF0F8",
           "linecolor": "#EBF0F8",
           "ticks": "",
           "title": {
            "standoff": 15
           },
           "zerolinecolor": "#EBF0F8",
           "zerolinewidth": 2
          }
         }
        },
        "title": {
         "text": "Hit Rate vs k"
        },
        "xaxis": {
         "title": {
          "text": "k (Top-k)"
         }
        },
        "yaxis": {
         "title": {
          "text": "Hit Rate (%)"
         }
        }
       }
      }
     },
     "metadata": {},
     "output_type": "display_data"
    },
    {
     "data": {
      "text/plain": [
       "([1,\n",
       "  2,\n",
       "  3,\n",
       "  4,\n",
       "  5,\n",
       "  6,\n",
       "  7,\n",
       "  8,\n",
       "  9,\n",
       "  10,\n",
       "  11,\n",
       "  12,\n",
       "  13,\n",
       "  14,\n",
       "  15,\n",
       "  16,\n",
       "  17,\n",
       "  18,\n",
       "  19,\n",
       "  20,\n",
       "  21,\n",
       "  22,\n",
       "  23,\n",
       "  24,\n",
       "  25,\n",
       "  26,\n",
       "  27,\n",
       "  28,\n",
       "  29,\n",
       "  30,\n",
       "  31,\n",
       "  32,\n",
       "  33,\n",
       "  34,\n",
       "  35,\n",
       "  36,\n",
       "  37,\n",
       "  38,\n",
       "  39,\n",
       "  40,\n",
       "  41,\n",
       "  42,\n",
       "  43,\n",
       "  44,\n",
       "  45,\n",
       "  46,\n",
       "  47,\n",
       "  48,\n",
       "  49,\n",
       "  50,\n",
       "  51,\n",
       "  52,\n",
       "  53,\n",
       "  54,\n",
       "  55,\n",
       "  56,\n",
       "  57,\n",
       "  58,\n",
       "  59,\n",
       "  60,\n",
       "  61,\n",
       "  62,\n",
       "  63,\n",
       "  64,\n",
       "  65,\n",
       "  66,\n",
       "  67,\n",
       "  68,\n",
       "  69,\n",
       "  70,\n",
       "  71,\n",
       "  72,\n",
       "  73,\n",
       "  74,\n",
       "  75,\n",
       "  76,\n",
       "  77,\n",
       "  78,\n",
       "  79,\n",
       "  80,\n",
       "  81,\n",
       "  82,\n",
       "  83,\n",
       "  84,\n",
       "  85,\n",
       "  86,\n",
       "  87,\n",
       "  88,\n",
       "  89,\n",
       "  90,\n",
       "  91,\n",
       "  92,\n",
       "  93,\n",
       "  94,\n",
       "  95,\n",
       "  96,\n",
       "  97,\n",
       "  98,\n",
       "  99,\n",
       "  100,\n",
       "  101,\n",
       "  102,\n",
       "  103,\n",
       "  104,\n",
       "  105,\n",
       "  106,\n",
       "  107,\n",
       "  108],\n",
       " [25.0,\n",
       "  35.18518518518518,\n",
       "  41.66666666666667,\n",
       "  48.148148148148145,\n",
       "  48.148148148148145,\n",
       "  52.77777777777778,\n",
       "  55.55555555555556,\n",
       "  61.111111111111114,\n",
       "  62.96296296296296,\n",
       "  62.96296296296296,\n",
       "  62.96296296296296,\n",
       "  64.81481481481481,\n",
       "  66.66666666666666,\n",
       "  69.44444444444444,\n",
       "  70.37037037037037,\n",
       "  71.29629629629629,\n",
       "  71.29629629629629,\n",
       "  72.22222222222221,\n",
       "  73.14814814814815,\n",
       "  74.07407407407408,\n",
       "  75.0,\n",
       "  76.85185185185185,\n",
       "  80.55555555555556,\n",
       "  80.55555555555556,\n",
       "  80.55555555555556,\n",
       "  81.48148148148148,\n",
       "  83.33333333333334,\n",
       "  83.33333333333334,\n",
       "  83.33333333333334,\n",
       "  85.18518518518519,\n",
       "  85.18518518518519,\n",
       "  85.18518518518519,\n",
       "  87.03703703703704,\n",
       "  87.96296296296296,\n",
       "  87.96296296296296,\n",
       "  88.88888888888889,\n",
       "  89.81481481481481,\n",
       "  91.66666666666666,\n",
       "  91.66666666666666,\n",
       "  92.5925925925926,\n",
       "  92.5925925925926,\n",
       "  92.5925925925926,\n",
       "  92.5925925925926,\n",
       "  92.5925925925926,\n",
       "  92.5925925925926,\n",
       "  92.5925925925926,\n",
       "  93.51851851851852,\n",
       "  93.51851851851852,\n",
       "  93.51851851851852,\n",
       "  93.51851851851852,\n",
       "  94.44444444444444,\n",
       "  95.37037037037037,\n",
       "  95.37037037037037,\n",
       "  95.37037037037037,\n",
       "  95.37037037037037,\n",
       "  95.37037037037037,\n",
       "  95.37037037037037,\n",
       "  95.37037037037037,\n",
       "  97.22222222222221,\n",
       "  97.22222222222221,\n",
       "  97.22222222222221,\n",
       "  97.22222222222221,\n",
       "  97.22222222222221,\n",
       "  97.22222222222221,\n",
       "  97.22222222222221,\n",
       "  97.22222222222221,\n",
       "  97.22222222222221,\n",
       "  97.22222222222221,\n",
       "  97.22222222222221,\n",
       "  97.22222222222221,\n",
       "  97.22222222222221,\n",
       "  97.22222222222221,\n",
       "  97.22222222222221,\n",
       "  97.22222222222221,\n",
       "  97.22222222222221,\n",
       "  97.22222222222221,\n",
       "  97.22222222222221,\n",
       "  97.22222222222221,\n",
       "  97.22222222222221,\n",
       "  97.22222222222221,\n",
       "  97.22222222222221,\n",
       "  97.22222222222221,\n",
       "  97.22222222222221,\n",
       "  97.22222222222221,\n",
       "  98.14814814814815,\n",
       "  98.14814814814815,\n",
       "  98.14814814814815,\n",
       "  98.14814814814815,\n",
       "  98.14814814814815,\n",
       "  98.14814814814815,\n",
       "  98.14814814814815,\n",
       "  98.14814814814815,\n",
       "  98.14814814814815,\n",
       "  98.14814814814815,\n",
       "  98.14814814814815,\n",
       "  98.14814814814815,\n",
       "  98.14814814814815,\n",
       "  99.07407407407408,\n",
       "  99.07407407407408,\n",
       "  99.07407407407408,\n",
       "  99.07407407407408,\n",
       "  99.07407407407408,\n",
       "  99.07407407407408,\n",
       "  99.07407407407408,\n",
       "  99.07407407407408,\n",
       "  99.07407407407408,\n",
       "  99.07407407407408,\n",
       "  99.07407407407408])"
      ]
     },
     "execution_count": 40,
     "metadata": {},
     "output_type": "execute_result"
    }
   ],
   "source": [
    "plot_hit_rate_plotly(data_folder, k_max=108)"
   ]
  },
  {
   "cell_type": "code",
   "execution_count": 50,
   "id": "3853effb",
   "metadata": {},
   "outputs": [],
   "source": [
    "\n",
    "\n",
    "def load_templates(data_folder):\n",
    "    \"\"\"\n",
    "    Load enrollment templates (excluding '_3') from .mat files.\n",
    "    Returns: vectors (ndarray), labels (list)\n",
    "    \"\"\"\n",
    "    files = sorted([f for f in os.listdir(data_folder) if f.endswith('.mat')])\n",
    "    vectors, labels = [], []\n",
    "\n",
    "    for file in files:\n",
    "        if '_3' in file:  # Skip probe templates\n",
    "            continue\n",
    "\n",
    "        path = os.path.join(data_folder, file)\n",
    "        data = loadmat(path)\n",
    "\n",
    "        vec = data['template'].flatten().astype('float32')\n",
    "        pid, side = file.split('_')[0], file.split('_')[1]\n",
    "        labels.append(f\"{pid}_{side}\")\n",
    "        vectors.append(vec)\n",
    "\n",
    "    return np.vstack(vectors), labels\n",
    "\n",
    "\n",
    "def create_flat_index(vectors, use_cosine=False):\n",
    "    \"\"\"\n",
    "    Create a standard Flat index (exact search).\n",
    "    \"\"\"\n",
    "    d = vectors.shape[1]\n",
    "\n",
    "    if use_cosine:\n",
    "        faiss.normalize_L2(vectors)  # normalize for cosine similarity\n",
    "        metric = faiss.METRIC_INNER_PRODUCT\n",
    "    else:\n",
    "        metric = faiss.METRIC_L2\n",
    "\n",
    "    index = faiss.IndexFlat(d, metric)\n",
    "    index.add(vectors)\n",
    "    return index\n",
    "\n",
    "\n",
    "\n",
    "def evaluate_accuracy(index, labels, data_folder, k):\n",
    "    \"\"\"\n",
    "    Evaluate top-k accuracy using probe templates ('_3').\n",
    "    Returns: accuracy (float), total_queries (int)\n",
    "    \"\"\"\n",
    "    query_files = sorted([f for f in os.listdir(data_folder) if '_3' in f and f.endswith('.mat')])\n",
    "    correct, total = 0, 0\n",
    "\n",
    "    for qf in query_files:\n",
    "        qpid = qf.split('_')[0]\n",
    "        qpath = os.path.join(data_folder, qf)\n",
    "\n",
    "        qvec = loadmat(qpath)['template'].flatten().astype('float32').reshape(1, -1)\n",
    "        distances, indices = index.search(qvec, k)\n",
    "\n",
    "        predicted_pids = [labels[i].split('_')[0] for i in indices[0]]\n",
    "        if qpid in predicted_pids:\n",
    "            correct += 1\n",
    "        total += 1\n",
    "\n",
    "    return (correct / total if total > 0 else 0)\n",
    "\n",
    "\n",
    "def plot_hit_rate_plotly(data_folder, k_max=50):\n",
    "    vectors, labels = load_templates(data_folder)\n",
    "    index = create_flat_index(vectors)\n",
    "\n",
    "    k_values = list(range(1, k_max + 1))\n",
    "    hit_rates = []\n",
    "\n",
    "    for k in k_values:\n",
    "        acc = evaluate_accuracy(index, labels, data_folder, k)\n",
    "        hit_rates.append(acc * 100)  # in %\n",
    "\n",
    "    # ---- Save results to CSV ----\n",
    "    with open(\"/home/nishkal/sg/iris_indexing/results/CASIA1_FLAT_results.csv\", mode='w', newline='') as file:\n",
    "        writer = csv.writer(file)\n",
    "        writer.writerow([\"k\", \"hit_rate_percent\"])\n",
    "        for k_val, hr in zip(k_values, hit_rates):\n",
    "            writer.writerow([k_val, hr])\n",
    "    # print(f\"Results saved to {csv_path}\")\n",
    "\n",
    "    \n",
    "\n",
    "    # ---- Plot interactive graph ----\n",
    "    fig = go.Figure()\n",
    "    fig.add_trace(go.Scatter(\n",
    "        x=k_values, y=hit_rates,\n",
    "        mode='lines+markers',\n",
    "        name='Hit Rate (%)',\n",
    "        line=dict(color='blue', width=2)\n",
    "    ))\n",
    "    fig.update_layout(\n",
    "        title=\"Hit Rate vs k\",\n",
    "        xaxis_title=\"k (Top-k)\",\n",
    "        yaxis_title=\"Hit Rate (%)\",\n",
    "        template=\"plotly_white\"\n",
    "    )\n",
    "    fig.show()\n",
    "    return k_values, hit_rates"
   ]
  },
  {
   "cell_type": "code",
   "execution_count": 51,
   "id": "911a2257",
   "metadata": {},
   "outputs": [
    {
     "data": {
      "application/vnd.plotly.v1+json": {
       "config": {
        "plotlyServerURL": "https://plot.ly"
       },
       "data": [
        {
         "line": {
          "color": "blue",
          "width": 2
         },
         "mode": "lines+markers",
         "name": "Hit Rate (%)",
         "type": "scatter",
         "x": [
          1,
          2,
          3,
          4,
          5,
          6,
          7,
          8,
          9,
          10,
          11,
          12,
          13,
          14,
          15,
          16,
          17,
          18,
          19,
          20,
          21,
          22,
          23,
          24,
          25,
          26,
          27,
          28,
          29,
          30,
          31,
          32,
          33,
          34,
          35,
          36,
          37,
          38,
          39,
          40,
          41,
          42,
          43,
          44,
          45,
          46,
          47,
          48,
          49,
          50,
          51,
          52,
          53,
          54,
          55,
          56,
          57,
          58,
          59,
          60,
          61,
          62,
          63,
          64,
          65,
          66,
          67,
          68,
          69,
          70,
          71,
          72,
          73,
          74,
          75,
          76,
          77,
          78,
          79,
          80,
          81,
          82,
          83,
          84,
          85,
          86,
          87,
          88,
          89,
          90,
          91,
          92,
          93,
          94,
          95,
          96,
          97,
          98,
          99,
          100,
          101,
          102,
          103,
          104,
          105,
          106,
          107,
          108
         ],
         "y": [
          91.66666666666666,
          93.51851851851852,
          94.44444444444444,
          95.37037037037037,
          95.37037037037037,
          95.37037037037037,
          96.29629629629629,
          96.29629629629629,
          96.29629629629629,
          96.29629629629629,
          96.29629629629629,
          96.29629629629629,
          96.29629629629629,
          97.22222222222221,
          97.22222222222221,
          97.22222222222221,
          97.22222222222221,
          97.22222222222221,
          97.22222222222221,
          97.22222222222221,
          97.22222222222221,
          98.14814814814815,
          98.14814814814815,
          98.14814814814815,
          98.14814814814815,
          98.14814814814815,
          98.14814814814815,
          98.14814814814815,
          98.14814814814815,
          98.14814814814815,
          98.14814814814815,
          98.14814814814815,
          98.14814814814815,
          98.14814814814815,
          98.14814814814815,
          98.14814814814815,
          98.14814814814815,
          98.14814814814815,
          98.14814814814815,
          98.14814814814815,
          98.14814814814815,
          98.14814814814815,
          98.14814814814815,
          98.14814814814815,
          98.14814814814815,
          98.14814814814815,
          98.14814814814815,
          98.14814814814815,
          99.07407407407408,
          99.07407407407408,
          99.07407407407408,
          99.07407407407408,
          99.07407407407408,
          99.07407407407408,
          99.07407407407408,
          99.07407407407408,
          99.07407407407408,
          99.07407407407408,
          99.07407407407408,
          99.07407407407408,
          99.07407407407408,
          99.07407407407408,
          99.07407407407408,
          99.07407407407408,
          99.07407407407408,
          99.07407407407408,
          99.07407407407408,
          99.07407407407408,
          99.07407407407408,
          99.07407407407408,
          99.07407407407408,
          99.07407407407408,
          99.07407407407408,
          99.07407407407408,
          99.07407407407408,
          99.07407407407408,
          99.07407407407408,
          99.07407407407408,
          99.07407407407408,
          99.07407407407408,
          99.07407407407408,
          99.07407407407408,
          99.07407407407408,
          99.07407407407408,
          99.07407407407408,
          99.07407407407408,
          99.07407407407408,
          99.07407407407408,
          99.07407407407408,
          99.07407407407408,
          99.07407407407408,
          99.07407407407408,
          99.07407407407408,
          99.07407407407408,
          99.07407407407408,
          99.07407407407408,
          99.07407407407408,
          99.07407407407408,
          99.07407407407408,
          100,
          100,
          100,
          100,
          100,
          100,
          100,
          100,
          100
         ]
        }
       ],
       "layout": {
        "template": {
         "data": {
          "bar": [
           {
            "error_x": {
             "color": "#2a3f5f"
            },
            "error_y": {
             "color": "#2a3f5f"
            },
            "marker": {
             "line": {
              "color": "white",
              "width": 0.5
             },
             "pattern": {
              "fillmode": "overlay",
              "size": 10,
              "solidity": 0.2
             }
            },
            "type": "bar"
           }
          ],
          "barpolar": [
           {
            "marker": {
             "line": {
              "color": "white",
              "width": 0.5
             },
             "pattern": {
              "fillmode": "overlay",
              "size": 10,
              "solidity": 0.2
             }
            },
            "type": "barpolar"
           }
          ],
          "carpet": [
           {
            "aaxis": {
             "endlinecolor": "#2a3f5f",
             "gridcolor": "#C8D4E3",
             "linecolor": "#C8D4E3",
             "minorgridcolor": "#C8D4E3",
             "startlinecolor": "#2a3f5f"
            },
            "baxis": {
             "endlinecolor": "#2a3f5f",
             "gridcolor": "#C8D4E3",
             "linecolor": "#C8D4E3",
             "minorgridcolor": "#C8D4E3",
             "startlinecolor": "#2a3f5f"
            },
            "type": "carpet"
           }
          ],
          "choropleth": [
           {
            "colorbar": {
             "outlinewidth": 0,
             "ticks": ""
            },
            "type": "choropleth"
           }
          ],
          "contour": [
           {
            "colorbar": {
             "outlinewidth": 0,
             "ticks": ""
            },
            "colorscale": [
             [
              0,
              "#0d0887"
             ],
             [
              0.1111111111111111,
              "#46039f"
             ],
             [
              0.2222222222222222,
              "#7201a8"
             ],
             [
              0.3333333333333333,
              "#9c179e"
             ],
             [
              0.4444444444444444,
              "#bd3786"
             ],
             [
              0.5555555555555556,
              "#d8576b"
             ],
             [
              0.6666666666666666,
              "#ed7953"
             ],
             [
              0.7777777777777778,
              "#fb9f3a"
             ],
             [
              0.8888888888888888,
              "#fdca26"
             ],
             [
              1,
              "#f0f921"
             ]
            ],
            "type": "contour"
           }
          ],
          "contourcarpet": [
           {
            "colorbar": {
             "outlinewidth": 0,
             "ticks": ""
            },
            "type": "contourcarpet"
           }
          ],
          "heatmap": [
           {
            "colorbar": {
             "outlinewidth": 0,
             "ticks": ""
            },
            "colorscale": [
             [
              0,
              "#0d0887"
             ],
             [
              0.1111111111111111,
              "#46039f"
             ],
             [
              0.2222222222222222,
              "#7201a8"
             ],
             [
              0.3333333333333333,
              "#9c179e"
             ],
             [
              0.4444444444444444,
              "#bd3786"
             ],
             [
              0.5555555555555556,
              "#d8576b"
             ],
             [
              0.6666666666666666,
              "#ed7953"
             ],
             [
              0.7777777777777778,
              "#fb9f3a"
             ],
             [
              0.8888888888888888,
              "#fdca26"
             ],
             [
              1,
              "#f0f921"
             ]
            ],
            "type": "heatmap"
           }
          ],
          "histogram": [
           {
            "marker": {
             "pattern": {
              "fillmode": "overlay",
              "size": 10,
              "solidity": 0.2
             }
            },
            "type": "histogram"
           }
          ],
          "histogram2d": [
           {
            "colorbar": {
             "outlinewidth": 0,
             "ticks": ""
            },
            "colorscale": [
             [
              0,
              "#0d0887"
             ],
             [
              0.1111111111111111,
              "#46039f"
             ],
             [
              0.2222222222222222,
              "#7201a8"
             ],
             [
              0.3333333333333333,
              "#9c179e"
             ],
             [
              0.4444444444444444,
              "#bd3786"
             ],
             [
              0.5555555555555556,
              "#d8576b"
             ],
             [
              0.6666666666666666,
              "#ed7953"
             ],
             [
              0.7777777777777778,
              "#fb9f3a"
             ],
             [
              0.8888888888888888,
              "#fdca26"
             ],
             [
              1,
              "#f0f921"
             ]
            ],
            "type": "histogram2d"
           }
          ],
          "histogram2dcontour": [
           {
            "colorbar": {
             "outlinewidth": 0,
             "ticks": ""
            },
            "colorscale": [
             [
              0,
              "#0d0887"
             ],
             [
              0.1111111111111111,
              "#46039f"
             ],
             [
              0.2222222222222222,
              "#7201a8"
             ],
             [
              0.3333333333333333,
              "#9c179e"
             ],
             [
              0.4444444444444444,
              "#bd3786"
             ],
             [
              0.5555555555555556,
              "#d8576b"
             ],
             [
              0.6666666666666666,
              "#ed7953"
             ],
             [
              0.7777777777777778,
              "#fb9f3a"
             ],
             [
              0.8888888888888888,
              "#fdca26"
             ],
             [
              1,
              "#f0f921"
             ]
            ],
            "type": "histogram2dcontour"
           }
          ],
          "mesh3d": [
           {
            "colorbar": {
             "outlinewidth": 0,
             "ticks": ""
            },
            "type": "mesh3d"
           }
          ],
          "parcoords": [
           {
            "line": {
             "colorbar": {
              "outlinewidth": 0,
              "ticks": ""
             }
            },
            "type": "parcoords"
           }
          ],
          "pie": [
           {
            "automargin": true,
            "type": "pie"
           }
          ],
          "scatter": [
           {
            "fillpattern": {
             "fillmode": "overlay",
             "size": 10,
             "solidity": 0.2
            },
            "type": "scatter"
           }
          ],
          "scatter3d": [
           {
            "line": {
             "colorbar": {
              "outlinewidth": 0,
              "ticks": ""
             }
            },
            "marker": {
             "colorbar": {
              "outlinewidth": 0,
              "ticks": ""
             }
            },
            "type": "scatter3d"
           }
          ],
          "scattercarpet": [
           {
            "marker": {
             "colorbar": {
              "outlinewidth": 0,
              "ticks": ""
             }
            },
            "type": "scattercarpet"
           }
          ],
          "scattergeo": [
           {
            "marker": {
             "colorbar": {
              "outlinewidth": 0,
              "ticks": ""
             }
            },
            "type": "scattergeo"
           }
          ],
          "scattergl": [
           {
            "marker": {
             "colorbar": {
              "outlinewidth": 0,
              "ticks": ""
             }
            },
            "type": "scattergl"
           }
          ],
          "scattermap": [
           {
            "marker": {
             "colorbar": {
              "outlinewidth": 0,
              "ticks": ""
             }
            },
            "type": "scattermap"
           }
          ],
          "scattermapbox": [
           {
            "marker": {
             "colorbar": {
              "outlinewidth": 0,
              "ticks": ""
             }
            },
            "type": "scattermapbox"
           }
          ],
          "scatterpolar": [
           {
            "marker": {
             "colorbar": {
              "outlinewidth": 0,
              "ticks": ""
             }
            },
            "type": "scatterpolar"
           }
          ],
          "scatterpolargl": [
           {
            "marker": {
             "colorbar": {
              "outlinewidth": 0,
              "ticks": ""
             }
            },
            "type": "scatterpolargl"
           }
          ],
          "scatterternary": [
           {
            "marker": {
             "colorbar": {
              "outlinewidth": 0,
              "ticks": ""
             }
            },
            "type": "scatterternary"
           }
          ],
          "surface": [
           {
            "colorbar": {
             "outlinewidth": 0,
             "ticks": ""
            },
            "colorscale": [
             [
              0,
              "#0d0887"
             ],
             [
              0.1111111111111111,
              "#46039f"
             ],
             [
              0.2222222222222222,
              "#7201a8"
             ],
             [
              0.3333333333333333,
              "#9c179e"
             ],
             [
              0.4444444444444444,
              "#bd3786"
             ],
             [
              0.5555555555555556,
              "#d8576b"
             ],
             [
              0.6666666666666666,
              "#ed7953"
             ],
             [
              0.7777777777777778,
              "#fb9f3a"
             ],
             [
              0.8888888888888888,
              "#fdca26"
             ],
             [
              1,
              "#f0f921"
             ]
            ],
            "type": "surface"
           }
          ],
          "table": [
           {
            "cells": {
             "fill": {
              "color": "#EBF0F8"
             },
             "line": {
              "color": "white"
             }
            },
            "header": {
             "fill": {
              "color": "#C8D4E3"
             },
             "line": {
              "color": "white"
             }
            },
            "type": "table"
           }
          ]
         },
         "layout": {
          "annotationdefaults": {
           "arrowcolor": "#2a3f5f",
           "arrowhead": 0,
           "arrowwidth": 1
          },
          "autotypenumbers": "strict",
          "coloraxis": {
           "colorbar": {
            "outlinewidth": 0,
            "ticks": ""
           }
          },
          "colorscale": {
           "diverging": [
            [
             0,
             "#8e0152"
            ],
            [
             0.1,
             "#c51b7d"
            ],
            [
             0.2,
             "#de77ae"
            ],
            [
             0.3,
             "#f1b6da"
            ],
            [
             0.4,
             "#fde0ef"
            ],
            [
             0.5,
             "#f7f7f7"
            ],
            [
             0.6,
             "#e6f5d0"
            ],
            [
             0.7,
             "#b8e186"
            ],
            [
             0.8,
             "#7fbc41"
            ],
            [
             0.9,
             "#4d9221"
            ],
            [
             1,
             "#276419"
            ]
           ],
           "sequential": [
            [
             0,
             "#0d0887"
            ],
            [
             0.1111111111111111,
             "#46039f"
            ],
            [
             0.2222222222222222,
             "#7201a8"
            ],
            [
             0.3333333333333333,
             "#9c179e"
            ],
            [
             0.4444444444444444,
             "#bd3786"
            ],
            [
             0.5555555555555556,
             "#d8576b"
            ],
            [
             0.6666666666666666,
             "#ed7953"
            ],
            [
             0.7777777777777778,
             "#fb9f3a"
            ],
            [
             0.8888888888888888,
             "#fdca26"
            ],
            [
             1,
             "#f0f921"
            ]
           ],
           "sequentialminus": [
            [
             0,
             "#0d0887"
            ],
            [
             0.1111111111111111,
             "#46039f"
            ],
            [
             0.2222222222222222,
             "#7201a8"
            ],
            [
             0.3333333333333333,
             "#9c179e"
            ],
            [
             0.4444444444444444,
             "#bd3786"
            ],
            [
             0.5555555555555556,
             "#d8576b"
            ],
            [
             0.6666666666666666,
             "#ed7953"
            ],
            [
             0.7777777777777778,
             "#fb9f3a"
            ],
            [
             0.8888888888888888,
             "#fdca26"
            ],
            [
             1,
             "#f0f921"
            ]
           ]
          },
          "colorway": [
           "#636efa",
           "#EF553B",
           "#00cc96",
           "#ab63fa",
           "#FFA15A",
           "#19d3f3",
           "#FF6692",
           "#B6E880",
           "#FF97FF",
           "#FECB52"
          ],
          "font": {
           "color": "#2a3f5f"
          },
          "geo": {
           "bgcolor": "white",
           "lakecolor": "white",
           "landcolor": "white",
           "showlakes": true,
           "showland": true,
           "subunitcolor": "#C8D4E3"
          },
          "hoverlabel": {
           "align": "left"
          },
          "hovermode": "closest",
          "mapbox": {
           "style": "light"
          },
          "paper_bgcolor": "white",
          "plot_bgcolor": "white",
          "polar": {
           "angularaxis": {
            "gridcolor": "#EBF0F8",
            "linecolor": "#EBF0F8",
            "ticks": ""
           },
           "bgcolor": "white",
           "radialaxis": {
            "gridcolor": "#EBF0F8",
            "linecolor": "#EBF0F8",
            "ticks": ""
           }
          },
          "scene": {
           "xaxis": {
            "backgroundcolor": "white",
            "gridcolor": "#DFE8F3",
            "gridwidth": 2,
            "linecolor": "#EBF0F8",
            "showbackground": true,
            "ticks": "",
            "zerolinecolor": "#EBF0F8"
           },
           "yaxis": {
            "backgroundcolor": "white",
            "gridcolor": "#DFE8F3",
            "gridwidth": 2,
            "linecolor": "#EBF0F8",
            "showbackground": true,
            "ticks": "",
            "zerolinecolor": "#EBF0F8"
           },
           "zaxis": {
            "backgroundcolor": "white",
            "gridcolor": "#DFE8F3",
            "gridwidth": 2,
            "linecolor": "#EBF0F8",
            "showbackground": true,
            "ticks": "",
            "zerolinecolor": "#EBF0F8"
           }
          },
          "shapedefaults": {
           "line": {
            "color": "#2a3f5f"
           }
          },
          "ternary": {
           "aaxis": {
            "gridcolor": "#DFE8F3",
            "linecolor": "#A2B1C6",
            "ticks": ""
           },
           "baxis": {
            "gridcolor": "#DFE8F3",
            "linecolor": "#A2B1C6",
            "ticks": ""
           },
           "bgcolor": "white",
           "caxis": {
            "gridcolor": "#DFE8F3",
            "linecolor": "#A2B1C6",
            "ticks": ""
           }
          },
          "title": {
           "x": 0.05
          },
          "xaxis": {
           "automargin": true,
           "gridcolor": "#EBF0F8",
           "linecolor": "#EBF0F8",
           "ticks": "",
           "title": {
            "standoff": 15
           },
           "zerolinecolor": "#EBF0F8",
           "zerolinewidth": 2
          },
          "yaxis": {
           "automargin": true,
           "gridcolor": "#EBF0F8",
           "linecolor": "#EBF0F8",
           "ticks": "",
           "title": {
            "standoff": 15
           },
           "zerolinecolor": "#EBF0F8",
           "zerolinewidth": 2
          }
         }
        },
        "title": {
         "text": "Hit Rate vs k"
        },
        "xaxis": {
         "title": {
          "text": "k (Top-k)"
         }
        },
        "yaxis": {
         "title": {
          "text": "Hit Rate (%)"
         }
        }
       }
      }
     },
     "metadata": {},
     "output_type": "display_data"
    },
    {
     "data": {
      "text/plain": [
       "([1,\n",
       "  2,\n",
       "  3,\n",
       "  4,\n",
       "  5,\n",
       "  6,\n",
       "  7,\n",
       "  8,\n",
       "  9,\n",
       "  10,\n",
       "  11,\n",
       "  12,\n",
       "  13,\n",
       "  14,\n",
       "  15,\n",
       "  16,\n",
       "  17,\n",
       "  18,\n",
       "  19,\n",
       "  20,\n",
       "  21,\n",
       "  22,\n",
       "  23,\n",
       "  24,\n",
       "  25,\n",
       "  26,\n",
       "  27,\n",
       "  28,\n",
       "  29,\n",
       "  30,\n",
       "  31,\n",
       "  32,\n",
       "  33,\n",
       "  34,\n",
       "  35,\n",
       "  36,\n",
       "  37,\n",
       "  38,\n",
       "  39,\n",
       "  40,\n",
       "  41,\n",
       "  42,\n",
       "  43,\n",
       "  44,\n",
       "  45,\n",
       "  46,\n",
       "  47,\n",
       "  48,\n",
       "  49,\n",
       "  50,\n",
       "  51,\n",
       "  52,\n",
       "  53,\n",
       "  54,\n",
       "  55,\n",
       "  56,\n",
       "  57,\n",
       "  58,\n",
       "  59,\n",
       "  60,\n",
       "  61,\n",
       "  62,\n",
       "  63,\n",
       "  64,\n",
       "  65,\n",
       "  66,\n",
       "  67,\n",
       "  68,\n",
       "  69,\n",
       "  70,\n",
       "  71,\n",
       "  72,\n",
       "  73,\n",
       "  74,\n",
       "  75,\n",
       "  76,\n",
       "  77,\n",
       "  78,\n",
       "  79,\n",
       "  80,\n",
       "  81,\n",
       "  82,\n",
       "  83,\n",
       "  84,\n",
       "  85,\n",
       "  86,\n",
       "  87,\n",
       "  88,\n",
       "  89,\n",
       "  90,\n",
       "  91,\n",
       "  92,\n",
       "  93,\n",
       "  94,\n",
       "  95,\n",
       "  96,\n",
       "  97,\n",
       "  98,\n",
       "  99,\n",
       "  100,\n",
       "  101,\n",
       "  102,\n",
       "  103,\n",
       "  104,\n",
       "  105,\n",
       "  106,\n",
       "  107,\n",
       "  108],\n",
       " [91.66666666666666,\n",
       "  93.51851851851852,\n",
       "  94.44444444444444,\n",
       "  95.37037037037037,\n",
       "  95.37037037037037,\n",
       "  95.37037037037037,\n",
       "  96.29629629629629,\n",
       "  96.29629629629629,\n",
       "  96.29629629629629,\n",
       "  96.29629629629629,\n",
       "  96.29629629629629,\n",
       "  96.29629629629629,\n",
       "  96.29629629629629,\n",
       "  97.22222222222221,\n",
       "  97.22222222222221,\n",
       "  97.22222222222221,\n",
       "  97.22222222222221,\n",
       "  97.22222222222221,\n",
       "  97.22222222222221,\n",
       "  97.22222222222221,\n",
       "  97.22222222222221,\n",
       "  98.14814814814815,\n",
       "  98.14814814814815,\n",
       "  98.14814814814815,\n",
       "  98.14814814814815,\n",
       "  98.14814814814815,\n",
       "  98.14814814814815,\n",
       "  98.14814814814815,\n",
       "  98.14814814814815,\n",
       "  98.14814814814815,\n",
       "  98.14814814814815,\n",
       "  98.14814814814815,\n",
       "  98.14814814814815,\n",
       "  98.14814814814815,\n",
       "  98.14814814814815,\n",
       "  98.14814814814815,\n",
       "  98.14814814814815,\n",
       "  98.14814814814815,\n",
       "  98.14814814814815,\n",
       "  98.14814814814815,\n",
       "  98.14814814814815,\n",
       "  98.14814814814815,\n",
       "  98.14814814814815,\n",
       "  98.14814814814815,\n",
       "  98.14814814814815,\n",
       "  98.14814814814815,\n",
       "  98.14814814814815,\n",
       "  98.14814814814815,\n",
       "  99.07407407407408,\n",
       "  99.07407407407408,\n",
       "  99.07407407407408,\n",
       "  99.07407407407408,\n",
       "  99.07407407407408,\n",
       "  99.07407407407408,\n",
       "  99.07407407407408,\n",
       "  99.07407407407408,\n",
       "  99.07407407407408,\n",
       "  99.07407407407408,\n",
       "  99.07407407407408,\n",
       "  99.07407407407408,\n",
       "  99.07407407407408,\n",
       "  99.07407407407408,\n",
       "  99.07407407407408,\n",
       "  99.07407407407408,\n",
       "  99.07407407407408,\n",
       "  99.07407407407408,\n",
       "  99.07407407407408,\n",
       "  99.07407407407408,\n",
       "  99.07407407407408,\n",
       "  99.07407407407408,\n",
       "  99.07407407407408,\n",
       "  99.07407407407408,\n",
       "  99.07407407407408,\n",
       "  99.07407407407408,\n",
       "  99.07407407407408,\n",
       "  99.07407407407408,\n",
       "  99.07407407407408,\n",
       "  99.07407407407408,\n",
       "  99.07407407407408,\n",
       "  99.07407407407408,\n",
       "  99.07407407407408,\n",
       "  99.07407407407408,\n",
       "  99.07407407407408,\n",
       "  99.07407407407408,\n",
       "  99.07407407407408,\n",
       "  99.07407407407408,\n",
       "  99.07407407407408,\n",
       "  99.07407407407408,\n",
       "  99.07407407407408,\n",
       "  99.07407407407408,\n",
       "  99.07407407407408,\n",
       "  99.07407407407408,\n",
       "  99.07407407407408,\n",
       "  99.07407407407408,\n",
       "  99.07407407407408,\n",
       "  99.07407407407408,\n",
       "  99.07407407407408,\n",
       "  99.07407407407408,\n",
       "  99.07407407407408,\n",
       "  100.0,\n",
       "  100.0,\n",
       "  100.0,\n",
       "  100.0,\n",
       "  100.0,\n",
       "  100.0,\n",
       "  100.0,\n",
       "  100.0,\n",
       "  100.0])"
      ]
     },
     "execution_count": 51,
     "metadata": {},
     "output_type": "execute_result"
    }
   ],
   "source": [
    "plot_hit_rate_plotly(data_folder, k_max=108)"
   ]
  },
  {
   "cell_type": "code",
   "execution_count": null,
   "id": "09ae2f71",
   "metadata": {},
   "outputs": [],
   "source": [
    "\n"
   ]
  }
 ],
 "metadata": {
  "kernelspec": {
   "display_name": "sg",
   "language": "python",
   "name": "python3"
  },
  "language_info": {
   "codemirror_mode": {
    "name": "ipython",
    "version": 3
   },
   "file_extension": ".py",
   "mimetype": "text/x-python",
   "name": "python",
   "nbconvert_exporter": "python",
   "pygments_lexer": "ipython3",
   "version": "3.13.5"
  }
 },
 "nbformat": 4,
 "nbformat_minor": 5
}
